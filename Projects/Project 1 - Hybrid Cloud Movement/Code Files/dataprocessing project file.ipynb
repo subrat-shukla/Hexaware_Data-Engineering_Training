{
 "cells": [
  {
   "cell_type": "code",
   "execution_count": 0,
   "metadata": {
    "application/vnd.databricks.v1+cell": {
     "cellMetadata": {
      "byteLimit": 2048000,
      "rowLimit": 10000
     },
     "inputWidgets": {},
     "nuid": "1919edb2-1264-4a4c-8b0b-80aa9436930b",
     "showTitle": false,
     "tableResultSettingsMap": {},
     "title": ""
    }
   },
   "outputs": [
    {
     "output_type": "display_data",
     "data": {
      "text/html": [
       "<style scoped>\n",
       "  .table-result-container {\n",
       "    max-height: 300px;\n",
       "    overflow: auto;\n",
       "  }\n",
       "  table, th, td {\n",
       "    border: 1px solid black;\n",
       "    border-collapse: collapse;\n",
       "  }\n",
       "  th, td {\n",
       "    padding: 5px;\n",
       "  }\n",
       "  th {\n",
       "    text-align: left;\n",
       "  }\n",
       "</style><div class='table-result-container'><table class='table-result'><thead style='background-color: white'><tr><th>EmployeeID</th><th>FirstName</th><th>LastName</th><th>DateOfBirth</th><th>Position</th><th>Department</th><th>Salary</th><th>DateOfJoining</th><th>Email</th><th>PhoneNumber</th><th>Address</th></tr></thead><tbody><tr><td>1</td><td>Ravi</td><td>Kumar</td><td>1990-05-15T00:00:00Z</td><td>Software Engineer</td><td>IT</td><td>75000.0</td><td>2015-06-01T00:00:00Z</td><td>ravi.kumar@example.com</td><td>9876543210</td><td>123 MG Road, Bangalore</td></tr><tr><td>2</td><td>Priya</td><td>Sharma</td><td>1988-07-10T00:00:00Z</td><td>Project Manager</td><td>IT</td><td>95000.0</td><td>2013-08-15T00:00:00Z</td><td>priya.sharma@example.com</td><td>9876543211</td><td>456 Andheri East, Mumbai</td></tr><tr><td>3</td><td>Vikram</td><td>Patel</td><td>1992-02-20T00:00:00Z</td><td>Data Analyst</td><td>Finance</td><td>60000.0</td><td>2017-03-20T00:00:00Z</td><td>vikram.patel@example.com</td><td>9876543212</td><td>789 Gariahat, Kolkata</td></tr><tr><td>4</td><td>Meera</td><td>Nair</td><td>1985-12-05T00:00:00Z</td><td>HR Manager</td><td>HR</td><td>85000.0</td><td>2012-01-10T00:00:00Z</td><td>meera.nair@example.com</td><td>9876543213</td><td>101 MG Road, Kochi</td></tr><tr><td>5</td><td>Arjun</td><td>Reddy</td><td>1995-09-25T00:00:00Z</td><td>DevOps Engineer</td><td>IT</td><td>70000.0</td><td>2019-07-30T00:00:00Z</td><td>arjun.reddy@example.com</td><td>9876543214</td><td>678 LB Nagar, Hyderabad</td></tr><tr><td>6</td><td>Sneha</td><td>Verma</td><td>1993-04-15T00:00:00Z</td><td>Business Analyst</td><td>Finance</td><td>65000.0</td><td>2018-04-25T00:00:00Z</td><td>sneha.verma@example.com</td><td>9876543215</td><td>234 South Extension, Delhi</td></tr><tr><td>7</td><td>Karan</td><td>Singh</td><td>1987-11-11T00:00:00Z</td><td>Technical Lead</td><td>IT</td><td>90000.0</td><td>2014-10-05T00:00:00Z</td><td>karan.singh@example.com</td><td>9876543216</td><td>789 Jayanagar, Bangalore</td></tr><tr><td>8</td><td>Anita</td><td>Joshi</td><td>1990-03-18T00:00:00Z</td><td>Quality Analyst</td><td>QA</td><td>55000.0</td><td>2016-12-12T00:00:00Z</td><td>anita.joshi@example.com</td><td>9876543217</td><td>456 Powai, Mumbai</td></tr><tr><td>9</td><td>Ramesh</td><td>Gupta</td><td>1986-08-08T00:00:00Z</td><td>Operations Manager</td><td>Operations</td><td>85000.0</td><td>2010-09-15T00:00:00Z</td><td>ramesh.gupta@example.com</td><td>9876543218</td><td>321 Salt Lake, Kolkata</td></tr><tr><td>10</td><td>Neha</td><td>Kapoor</td><td>1994-06-22T00:00:00Z</td><td>UI/UX Designer</td><td>Design</td><td>60000.0</td><td>2019-11-01T00:00:00Z</td><td>neha.kapoor@example.com</td><td>9876543219</td><td>111 Sector 18, Noida</td></tr></tbody></table></div>"
      ]
     },
     "metadata": {
      "application/vnd.databricks.v1+output": {
       "addedWidgets": {},
       "aggData": [],
       "aggError": "",
       "aggOverflow": false,
       "aggSchema": [],
       "aggSeriesLimitReached": false,
       "aggType": "",
       "arguments": {},
       "columnCustomDisplayInfos": {},
       "data": [
        [
         1,
         "Ravi",
         "Kumar",
         "1990-05-15T00:00:00Z",
         "Software Engineer",
         "IT",
         75000.0,
         "2015-06-01T00:00:00Z",
         "ravi.kumar@example.com",
         9876543210,
         "123 MG Road, Bangalore"
        ],
        [
         2,
         "Priya",
         "Sharma",
         "1988-07-10T00:00:00Z",
         "Project Manager",
         "IT",
         95000.0,
         "2013-08-15T00:00:00Z",
         "priya.sharma@example.com",
         9876543211,
         "456 Andheri East, Mumbai"
        ],
        [
         3,
         "Vikram",
         "Patel",
         "1992-02-20T00:00:00Z",
         "Data Analyst",
         "Finance",
         60000.0,
         "2017-03-20T00:00:00Z",
         "vikram.patel@example.com",
         9876543212,
         "789 Gariahat, Kolkata"
        ],
        [
         4,
         "Meera",
         "Nair",
         "1985-12-05T00:00:00Z",
         "HR Manager",
         "HR",
         85000.0,
         "2012-01-10T00:00:00Z",
         "meera.nair@example.com",
         9876543213,
         "101 MG Road, Kochi"
        ],
        [
         5,
         "Arjun",
         "Reddy",
         "1995-09-25T00:00:00Z",
         "DevOps Engineer",
         "IT",
         70000.0,
         "2019-07-30T00:00:00Z",
         "arjun.reddy@example.com",
         9876543214,
         "678 LB Nagar, Hyderabad"
        ],
        [
         6,
         "Sneha",
         "Verma",
         "1993-04-15T00:00:00Z",
         "Business Analyst",
         "Finance",
         65000.0,
         "2018-04-25T00:00:00Z",
         "sneha.verma@example.com",
         9876543215,
         "234 South Extension, Delhi"
        ],
        [
         7,
         "Karan",
         "Singh",
         "1987-11-11T00:00:00Z",
         "Technical Lead",
         "IT",
         90000.0,
         "2014-10-05T00:00:00Z",
         "karan.singh@example.com",
         9876543216,
         "789 Jayanagar, Bangalore"
        ],
        [
         8,
         "Anita",
         "Joshi",
         "1990-03-18T00:00:00Z",
         "Quality Analyst",
         "QA",
         55000.0,
         "2016-12-12T00:00:00Z",
         "anita.joshi@example.com",
         9876543217,
         "456 Powai, Mumbai"
        ],
        [
         9,
         "Ramesh",
         "Gupta",
         "1986-08-08T00:00:00Z",
         "Operations Manager",
         "Operations",
         85000.0,
         "2010-09-15T00:00:00Z",
         "ramesh.gupta@example.com",
         9876543218,
         "321 Salt Lake, Kolkata"
        ],
        [
         10,
         "Neha",
         "Kapoor",
         "1994-06-22T00:00:00Z",
         "UI/UX Designer",
         "Design",
         60000.0,
         "2019-11-01T00:00:00Z",
         "neha.kapoor@example.com",
         9876543219,
         "111 Sector 18, Noida"
        ]
       ],
       "datasetInfos": [],
       "dbfsResultPath": null,
       "isJsonSchema": true,
       "metadata": {},
       "overflow": false,
       "plotOptions": {
        "customPlotOptions": {},
        "displayType": "table",
        "pivotAggregation": null,
        "pivotColumns": null,
        "xColumns": null,
        "yColumns": null
       },
       "removedWidgets": [],
       "schema": [
        {
         "metadata": "{}",
         "name": "EmployeeID",
         "type": "\"integer\""
        },
        {
         "metadata": "{}",
         "name": "FirstName",
         "type": "\"string\""
        },
        {
         "metadata": "{}",
         "name": "LastName",
         "type": "\"string\""
        },
        {
         "metadata": "{}",
         "name": "DateOfBirth",
         "type": "\"timestamp\""
        },
        {
         "metadata": "{}",
         "name": "Position",
         "type": "\"string\""
        },
        {
         "metadata": "{}",
         "name": "Department",
         "type": "\"string\""
        },
        {
         "metadata": "{}",
         "name": "Salary",
         "type": "\"double\""
        },
        {
         "metadata": "{}",
         "name": "DateOfJoining",
         "type": "\"timestamp\""
        },
        {
         "metadata": "{}",
         "name": "Email",
         "type": "\"string\""
        },
        {
         "metadata": "{}",
         "name": "PhoneNumber",
         "type": "\"long\""
        },
        {
         "metadata": "{}",
         "name": "Address",
         "type": "\"string\""
        }
       ],
       "type": "table"
      }
     },
     "output_type": "display_data"
    }
   ],
   "source": [
    "# Set Azure Storage configurations\n",
    "storage_account_name = \"projectid6\"\n",
    "container_name = \"target\"\n",
    "storage_account_key = \"QOtIV0e7a1yL5UIhb7a6SCWkhPYWVVw2MQ1BtudrGNxce5JZY8jOWTjezPOGZeZMK4G3aK8638jY+AStULNE7Q==\"\n",
    "\n",
    "# Configure Spark to access Azure Blob Storage\n",
    "spark.conf.set(\n",
    "    f\"fs.azure.account.key.{storage_account_name}.blob.core.windows.net\",\n",
    "    storage_account_key\n",
    ")\n",
    "# Correct the file path\n",
    "file_path = f\"wasbs://{container_name}@{storage_account_name}.blob.core.windows.net/dbo.Employee.txt\"\n",
    "\n",
    "# Load the .txt file into a Spark DataFrame\n",
    "df = spark.read.option(\"header\", \"true\").option(\"inferSchema\", \"true\").csv(file_path)\n",
    "\n",
    "# Display the DataFrame\n",
    "display(df)\n",
    "\n"
   ]
  },
  {
   "cell_type": "code",
   "execution_count": 0,
   "metadata": {
    "application/vnd.databricks.v1+cell": {
     "cellMetadata": {
      "byteLimit": 2048000,
      "rowLimit": 10000
     },
     "inputWidgets": {},
     "nuid": "302f8b48-106a-4e9f-9257-00bbfc5104d4",
     "showTitle": false,
     "tableResultSettingsMap": {},
     "title": ""
    }
   },
   "outputs": [
    {
     "output_type": "display_data",
     "data": {
      "text/html": [
       "<style scoped>\n",
       "  .table-result-container {\n",
       "    max-height: 300px;\n",
       "    overflow: auto;\n",
       "  }\n",
       "  table, th, td {\n",
       "    border: 1px solid black;\n",
       "    border-collapse: collapse;\n",
       "  }\n",
       "  th, td {\n",
       "    padding: 5px;\n",
       "  }\n",
       "  th {\n",
       "    text-align: left;\n",
       "  }\n",
       "</style><div class='table-result-container'><table class='table-result'><thead style='background-color: white'><tr><th>EmployeeID</th><th>FirstName</th><th>LastName</th><th>DateOfBirth</th><th>Position</th><th>Department</th><th>Salary</th><th>DateOfJoining</th><th>Email</th><th>PhoneNumber</th><th>Address</th><th>new_column</th></tr></thead><tbody><tr><td>1</td><td>Ravi</td><td>Kumar</td><td>1990-05-15T00:00:00Z</td><td>Software Engineer</td><td>IT</td><td>75000.0</td><td>2015-06-01T00:00:00Z</td><td>ravi.kumar@example.com</td><td>9876543210</td><td>123 MG Road, Bangalore</td><td>150000.0</td></tr><tr><td>2</td><td>Priya</td><td>Sharma</td><td>1988-07-10T00:00:00Z</td><td>Project Manager</td><td>IT</td><td>95000.0</td><td>2013-08-15T00:00:00Z</td><td>priya.sharma@example.com</td><td>9876543211</td><td>456 Andheri East, Mumbai</td><td>190000.0</td></tr><tr><td>4</td><td>Meera</td><td>Nair</td><td>1985-12-05T00:00:00Z</td><td>HR Manager</td><td>HR</td><td>85000.0</td><td>2012-01-10T00:00:00Z</td><td>meera.nair@example.com</td><td>9876543213</td><td>101 MG Road, Kochi</td><td>170000.0</td></tr><tr><td>5</td><td>Arjun</td><td>Reddy</td><td>1995-09-25T00:00:00Z</td><td>DevOps Engineer</td><td>IT</td><td>70000.0</td><td>2019-07-30T00:00:00Z</td><td>arjun.reddy@example.com</td><td>9876543214</td><td>678 LB Nagar, Hyderabad</td><td>140000.0</td></tr><tr><td>7</td><td>Karan</td><td>Singh</td><td>1987-11-11T00:00:00Z</td><td>Technical Lead</td><td>IT</td><td>90000.0</td><td>2014-10-05T00:00:00Z</td><td>karan.singh@example.com</td><td>9876543216</td><td>789 Jayanagar, Bangalore</td><td>180000.0</td></tr><tr><td>9</td><td>Ramesh</td><td>Gupta</td><td>1986-08-08T00:00:00Z</td><td>Operations Manager</td><td>Operations</td><td>85000.0</td><td>2010-09-15T00:00:00Z</td><td>ramesh.gupta@example.com</td><td>9876543218</td><td>321 Salt Lake, Kolkata</td><td>170000.0</td></tr></tbody></table></div>"
      ]
     },
     "metadata": {
      "application/vnd.databricks.v1+output": {
       "addedWidgets": {},
       "aggData": [],
       "aggError": "",
       "aggOverflow": false,
       "aggSchema": [],
       "aggSeriesLimitReached": false,
       "aggType": "",
       "arguments": {},
       "columnCustomDisplayInfos": {},
       "data": [
        [
         1,
         "Ravi",
         "Kumar",
         "1990-05-15T00:00:00Z",
         "Software Engineer",
         "IT",
         75000.0,
         "2015-06-01T00:00:00Z",
         "ravi.kumar@example.com",
         9876543210,
         "123 MG Road, Bangalore",
         150000.0
        ],
        [
         2,
         "Priya",
         "Sharma",
         "1988-07-10T00:00:00Z",
         "Project Manager",
         "IT",
         95000.0,
         "2013-08-15T00:00:00Z",
         "priya.sharma@example.com",
         9876543211,
         "456 Andheri East, Mumbai",
         190000.0
        ],
        [
         4,
         "Meera",
         "Nair",
         "1985-12-05T00:00:00Z",
         "HR Manager",
         "HR",
         85000.0,
         "2012-01-10T00:00:00Z",
         "meera.nair@example.com",
         9876543213,
         "101 MG Road, Kochi",
         170000.0
        ],
        [
         5,
         "Arjun",
         "Reddy",
         "1995-09-25T00:00:00Z",
         "DevOps Engineer",
         "IT",
         70000.0,
         "2019-07-30T00:00:00Z",
         "arjun.reddy@example.com",
         9876543214,
         "678 LB Nagar, Hyderabad",
         140000.0
        ],
        [
         7,
         "Karan",
         "Singh",
         "1987-11-11T00:00:00Z",
         "Technical Lead",
         "IT",
         90000.0,
         "2014-10-05T00:00:00Z",
         "karan.singh@example.com",
         9876543216,
         "789 Jayanagar, Bangalore",
         180000.0
        ],
        [
         9,
         "Ramesh",
         "Gupta",
         "1986-08-08T00:00:00Z",
         "Operations Manager",
         "Operations",
         85000.0,
         "2010-09-15T00:00:00Z",
         "ramesh.gupta@example.com",
         9876543218,
         "321 Salt Lake, Kolkata",
         170000.0
        ]
       ],
       "datasetInfos": [],
       "dbfsResultPath": null,
       "isJsonSchema": true,
       "metadata": {},
       "overflow": false,
       "plotOptions": {
        "customPlotOptions": {},
        "displayType": "table",
        "pivotAggregation": null,
        "pivotColumns": null,
        "xColumns": null,
        "yColumns": null
       },
       "removedWidgets": [],
       "schema": [
        {
         "metadata": "{}",
         "name": "EmployeeID",
         "type": "\"integer\""
        },
        {
         "metadata": "{}",
         "name": "FirstName",
         "type": "\"string\""
        },
        {
         "metadata": "{}",
         "name": "LastName",
         "type": "\"string\""
        },
        {
         "metadata": "{}",
         "name": "DateOfBirth",
         "type": "\"timestamp\""
        },
        {
         "metadata": "{}",
         "name": "Position",
         "type": "\"string\""
        },
        {
         "metadata": "{}",
         "name": "Department",
         "type": "\"string\""
        },
        {
         "metadata": "{}",
         "name": "Salary",
         "type": "\"double\""
        },
        {
         "metadata": "{}",
         "name": "DateOfJoining",
         "type": "\"timestamp\""
        },
        {
         "metadata": "{}",
         "name": "Email",
         "type": "\"string\""
        },
        {
         "metadata": "{}",
         "name": "PhoneNumber",
         "type": "\"long\""
        },
        {
         "metadata": "{}",
         "name": "Address",
         "type": "\"string\""
        },
        {
         "metadata": "{}",
         "name": "new_column",
         "type": "\"double\""
        }
       ],
       "type": "table"
      }
     },
     "output_type": "display_data"
    }
   ],
   "source": [
    "from pyspark.sql.functions import col\n",
    "\n",
    "# Example: Filter rows where 'age' > 30\n",
    "filtered_df = df.filter(df['Salary'] > 65000)\n",
    "\n",
    "# Example: Add a new column by doubling the 'age' value\n",
    "processed_df = filtered_df.withColumn(\"new_column\", col(\"Salary\") * 2)\n",
    "\n",
    "# Display the processed DataFrame\n",
    "display(processed_df)\n"
   ]
  },
  {
   "cell_type": "code",
   "execution_count": 0,
   "metadata": {
    "application/vnd.databricks.v1+cell": {
     "cellMetadata": {
      "byteLimit": 2048000,
      "rowLimit": 10000
     },
     "inputWidgets": {},
     "nuid": "89920602-264f-4960-9bde-4da0c9baee11",
     "showTitle": false,
     "tableResultSettingsMap": {},
     "title": ""
    }
   },
   "outputs": [
    {
     "output_type": "stream",
     "name": "stdout",
     "output_type": "stream",
     "text": [
      "Data successfully written to: wasbs://target@projectid6.blob.core.windows.net/processed_data/\n"
     ]
    }
   ],
   "source": [
    "# Define the output path for processed data\n",
    "output_path = f\"wasbs://{container_name}@{storage_account_name}.blob.core.windows.net/processed_data/\"\n",
    "\n",
    "# Write the processed DataFrame back as a CSV file\n",
    "processed_df.write.mode(\"overwrite\").option(\"header\", \"true\").csv(output_path)\n",
    "\n",
    "# Print confirmation\n",
    "print(f\"Data successfully written to: {output_path}\")\n"
   ]
  },
  {
   "cell_type": "code",
   "execution_count": 0,
   "metadata": {
    "application/vnd.databricks.v1+cell": {
     "cellMetadata": {
      "byteLimit": 2048000,
      "rowLimit": 10000
     },
     "inputWidgets": {},
     "nuid": "e2b89f60-fb89-45fb-9aea-d3bbe7e28019",
     "showTitle": false,
     "tableResultSettingsMap": {},
     "title": ""
    }
   },
   "outputs": [
    {
     "output_type": "execute_result",
     "data": {
      "text/plain": [
       "[FileInfo(path='wasbs://target@projectid6.blob.core.windows.net/processed_data/_SUCCESS', name='_SUCCESS', size=0, modificationTime=1734160669000),\n",
       " FileInfo(path='wasbs://target@projectid6.blob.core.windows.net/processed_data/_committed_724431898462074525', name='_committed_724431898462074525', size=110, modificationTime=1734160663000),\n",
       " FileInfo(path='wasbs://target@projectid6.blob.core.windows.net/processed_data/_started_724431898462074525', name='_started_724431898462074525', size=0, modificationTime=1734160655000),\n",
       " FileInfo(path='wasbs://target@projectid6.blob.core.windows.net/processed_data/part-00000-tid-724431898462074525-b7635225-e628-4a06-9225-16c5c01fdb73-4-1-c000.csv', name='part-00000-tid-724431898462074525-b7635225-e628-4a06-9225-16c5c01fdb73-4-1-c000.csv', size=1088, modificationTime=1734160659000)]"
      ]
     },
     "execution_count": 14,
     "metadata": {},
     "output_type": "execute_result"
    }
   ],
   "source": [
    "# Use Databricks utilities to list the files in the output path\n",
    "dbutils.fs.ls(output_path)\n"
   ]
  }
 ],
 "metadata": {
  "application/vnd.databricks.v1+notebook": {
   "computePreferences": null,
   "dashboards": [],
   "environmentMetadata": {
    "base_environment": "",
    "client": "1"
   },
   "language": "python",
   "notebookMetadata": {
    "pythonIndentUnit": 4
   },
   "notebookName": "dataprocessing project ID 6",
   "widgets": {}
  },
  "language_info": {
   "name": "python"
  }
 },
 "nbformat": 4,
 "nbformat_minor": 0
}