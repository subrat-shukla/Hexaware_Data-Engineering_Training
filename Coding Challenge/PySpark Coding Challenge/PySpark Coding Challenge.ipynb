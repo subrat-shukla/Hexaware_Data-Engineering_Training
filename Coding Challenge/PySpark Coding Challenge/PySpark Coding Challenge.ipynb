{
 "cells": [
  {
   "cell_type": "code",
   "execution_count": 0,
   "metadata": {
    "application/vnd.databricks.v1+cell": {
     "cellMetadata": {
      "byteLimit": 2048000,
      "rowLimit": 10000
     },
     "inputWidgets": {},
     "nuid": "97f17945-84f1-4256-b139-736a0125dbf4",
     "showTitle": false,
     "tableResultSettingsMap": {},
     "title": ""
    }
   },
   "outputs": [
    {
     "output_type": "stream",
     "name": "stdout",
     "output_type": "stream",
     "text": [
      "+-----------+---+------+-------------------+--------------+-----------+------+-----------+-------------+------------------+-----------+-------+------------+----------------+------------------+\n|Customer_ID|Age|Gender|         Occupation|Marital Status|Family Size|Income|Expenditure|Use Frequency|     Loan Category|Loan Amount|Overdue| Debt Record| Returned Cheque| Dishonour of Bill|\n+-----------+---+------+-------------------+--------------+-----------+------+-----------+-------------+------------------+-----------+-------+------------+----------------+------------------+\n|    IB14001| 30|  MALE|       BANK MANAGER|        SINGLE|          4| 50000|      22199|            6|           HOUSING| 10,00,000 |      5|      42,898|               6|                 9|\n|    IB14008| 44|  MALE|          PROFESSOR|       MARRIED|          6| 51000|      19999|            4|          SHOPPING|     50,000|      3|      33,999|               1|                 5|\n|    IB14012| 30|FEMALE|            DENTIST|        SINGLE|          3| 58450|      27675|            5|        TRAVELLING|     75,000|      6|      20,876|               3|                 1|\n|    IB14018| 29|  MALE|            TEACHER|       MARRIED|          5| 45767|      12787|            3|         GOLD LOAN|  6,00,000 |      7|      11,000|               0|                 4|\n|    IB14022| 34|  MALE|             POLICE|        SINGLE|          4| 43521|      11999|            3|        AUTOMOBILE|  2,00,000 |      2|      43,898|               1|                 2|\n|    IB14024| 55|FEMALE|              NURSE|       MARRIED|          6| 34999|      19888|            4|        AUTOMOBILE|     47,787|      1|      50,000|               0|                 3|\n|    IB14025| 39|FEMALE|            TEACHER|       MARRIED|          6| 46619|      18675|            4|           HOUSING| 12,09,867 |      8|      29,999|               6|                 8|\n|    IB14027| 51|  MALE|     SYSTEM MANAGER|       MARRIED|          3| 49999|      19111|            5|       RESTAURANTS|     60,676|      8|      13,000|               2|                 5|\n|    IB14029| 24|FEMALE|            TEACHER|        SINGLE|          3| 45008|      17454|            4|        AUTOMOBILE|  3,99,435 |      9|      51,987|               4|                 7|\n|    IB14031| 37|FEMALE|  SOFTWARE ENGINEER|       MARRIED|          5| 55999|      23999|            5|        AUTOMOBILE|     60,999|      2|           0|               5|                 3|\n|    IB14032| 24|  MALE|       DATA ANALYST|        SINGLE|          4| 60111|      28999|            6|        AUTOMOBILE|     35,232|      5|      33,333|               1|                 2|\n|    IB14034| 32|  MALE|   PRODUCT ENGINEER|       MARRIED|          6|  NULL|      29000|            7|COMPUTER SOFTWARES|     80,660|      6|       4,500|               5|                 4|\n|    IB14037| 54|FEMALE|            TEACHER|       MARRIED|          5| 48099|      19999|            4|       RESTAURANTS|     30,999|      1|      12,000|               7|                 5|\n|    IB14039| 45|  MALE|    ACCOUNT MANAGER|       MARRIED|          7| 45777|      18452|            4|         GOLD LOAN|  9,87,611 |      7|      39,999|               8|                 1|\n|    IB14041| 59|FEMALE|ASSISTANT PROFESSOR|       MARRIED|          4| 50999|      22999|            5|  EDUCATIONAL LOAN|  5,99,934 |      3|       9,000|               9|                 9|\n|    IB14042| 25|FEMALE|             DOCTOR|        SINGLE|          4| 60111|      27111|            5|        TRAVELLING| 12,90,929 |      4|      18,000|               1|                 0|\n|    IB14045| 31|  MALE|       STORE KEEPER|        SINGLE|          5| 40999|      11999|            3|       BOOK STORES|  1,67,654 |      1|       4,500|               0|                 1|\n|    IB14049| 49|  MALE|       BANK MANAGER|       MARRIED|          4| 45999|      14500|            4|        TRAVELLING|     79,999|      4|       6,700|               7|                 3|\n|    IB14050| 56|  MALE|     CIVIL ENGINEER|       MARRIED|          4|  NULL|      13999|            3|           HOUSING| 10,65,577 |      6|      19,999|               4|                 2|\n|    IB14054| 58|FEMALE|             DOCTOR|       MARRIED|          5| 60000|      25000|            5|           HOUSING|  9,00,000 |      5|      21,000|               9|                 0|\n+-----------+---+------+-------------------+--------------+-----------+------+-----------+-------------+------------------+-----------+-------+------------+----------------+------------------+\nonly showing top 20 rows\n\n"
     ]
    }
   ],
   "source": [
    "#Loading Data\n",
    "from pyspark.sql import SparkSession\n",
    "\n",
    "spark = SparkSession.builder.appName(\"Case Study\").getOrCreate()\n",
    "\n",
    "loan_file_path = \"/FileStore/tables/loan.csv\"\n",
    "\n",
    "loan_df = spark.read.format(\"csv\") \\\n",
    "    .option(\"header\", \"true\") \\\n",
    "    .option(\"inferSchema\", \"true\") \\\n",
    "    .load(loan_file_path)\n",
    "\n",
    "loan_df.show()\n",
    "loan_df.createOrReplaceTempView(\"loan_data\")\n",
    "\n"
   ]
  },
  {
   "cell_type": "code",
   "execution_count": 0,
   "metadata": {
    "application/vnd.databricks.v1+cell": {
     "cellMetadata": {
      "byteLimit": 2048000,
      "rowLimit": 10000
     },
     "inputWidgets": {},
     "nuid": "af883f9b-d594-41a6-8f05-c838a6a8550d",
     "showTitle": false,
     "tableResultSettingsMap": {},
     "title": ""
    }
   },
   "outputs": [],
   "source": [
    " #Spark SQL"
   ]
  },
  {
   "cell_type": "code",
   "execution_count": 0,
   "metadata": {
    "application/vnd.databricks.v1+cell": {
     "cellMetadata": {
      "byteLimit": 2048000,
      "rowLimit": 10000
     },
     "inputWidgets": {},
     "nuid": "6f430c0b-d2e6-4afe-9190-5626edc4c644",
     "showTitle": false,
     "tableResultSettingsMap": {},
     "title": ""
    }
   },
   "outputs": [
    {
     "output_type": "stream",
     "name": "stdout",
     "output_type": "stream",
     "text": [
      "+-----------+---+------+-------------------+--------------+-----------+------+-----------+-------------+------------------+-----------+-------+------------+----------------+------------------+\n|Customer_ID|Age|Gender|         Occupation|Marital Status|Family Size|Income|Expenditure|Use Frequency|     Loan Category|Loan Amount|Overdue| Debt Record| Returned Cheque| Dishonour of Bill|\n+-----------+---+------+-------------------+--------------+-----------+------+-----------+-------------+------------------+-----------+-------+------------+----------------+------------------+\n|    IB14001| 30|  MALE|       BANK MANAGER|        SINGLE|          4| 50000|      22199|            6|           HOUSING|  1000000.0|      5|      42,898|               6|                 9|\n|    IB14008| 44|  MALE|          PROFESSOR|       MARRIED|          6| 51000|      19999|            4|          SHOPPING|    50000.0|      3|      33,999|               1|                 5|\n|    IB14012| 30|FEMALE|            DENTIST|        SINGLE|          3| 58450|      27675|            5|        TRAVELLING|    75000.0|      6|      20,876|               3|                 1|\n|    IB14018| 29|  MALE|            TEACHER|       MARRIED|          5| 45767|      12787|            3|         GOLD LOAN|   600000.0|      7|      11,000|               0|                 4|\n|    IB14022| 34|  MALE|             POLICE|        SINGLE|          4| 43521|      11999|            3|        AUTOMOBILE|   200000.0|      2|      43,898|               1|                 2|\n|    IB14024| 55|FEMALE|              NURSE|       MARRIED|          6| 34999|      19888|            4|        AUTOMOBILE|    47787.0|      1|      50,000|               0|                 3|\n|    IB14025| 39|FEMALE|            TEACHER|       MARRIED|          6| 46619|      18675|            4|           HOUSING|  1209867.0|      8|      29,999|               6|                 8|\n|    IB14027| 51|  MALE|     SYSTEM MANAGER|       MARRIED|          3| 49999|      19111|            5|       RESTAURANTS|    60676.0|      8|      13,000|               2|                 5|\n|    IB14029| 24|FEMALE|            TEACHER|        SINGLE|          3| 45008|      17454|            4|        AUTOMOBILE|   399435.0|      9|      51,987|               4|                 7|\n|    IB14031| 37|FEMALE|  SOFTWARE ENGINEER|       MARRIED|          5| 55999|      23999|            5|        AUTOMOBILE|    60999.0|      2|           0|               5|                 3|\n|    IB14032| 24|  MALE|       DATA ANALYST|        SINGLE|          4| 60111|      28999|            6|        AUTOMOBILE|    35232.0|      5|      33,333|               1|                 2|\n|    IB14034| 32|  MALE|   PRODUCT ENGINEER|       MARRIED|          6|  NULL|      29000|            7|COMPUTER SOFTWARES|    80660.0|      6|       4,500|               5|                 4|\n|    IB14037| 54|FEMALE|            TEACHER|       MARRIED|          5| 48099|      19999|            4|       RESTAURANTS|    30999.0|      1|      12,000|               7|                 5|\n|    IB14039| 45|  MALE|    ACCOUNT MANAGER|       MARRIED|          7| 45777|      18452|            4|         GOLD LOAN|   987611.0|      7|      39,999|               8|                 1|\n|    IB14041| 59|FEMALE|ASSISTANT PROFESSOR|       MARRIED|          4| 50999|      22999|            5|  EDUCATIONAL LOAN|   599934.0|      3|       9,000|               9|                 9|\n|    IB14042| 25|FEMALE|             DOCTOR|        SINGLE|          4| 60111|      27111|            5|        TRAVELLING|  1290929.0|      4|      18,000|               1|                 0|\n|    IB14045| 31|  MALE|       STORE KEEPER|        SINGLE|          5| 40999|      11999|            3|       BOOK STORES|   167654.0|      1|       4,500|               0|                 1|\n|    IB14049| 49|  MALE|       BANK MANAGER|       MARRIED|          4| 45999|      14500|            4|        TRAVELLING|    79999.0|      4|       6,700|               7|                 3|\n|    IB14050| 56|  MALE|     CIVIL ENGINEER|       MARRIED|          4|  NULL|      13999|            3|           HOUSING|  1065577.0|      6|      19,999|               4|                 2|\n|    IB14054| 58|FEMALE|             DOCTOR|       MARRIED|          5| 60000|      25000|            5|           HOUSING|   900000.0|      5|      21,000|               9|                 0|\n+-----------+---+------+-------------------+--------------+-----------+------+-----------+-------------+------------------+-----------+-------+------------+----------------+------------------+\nonly showing top 20 rows\n\n"
     ]
    }
   ],
   "source": [
    "#Filter\n",
    "#Find people with Loan Amount greater than 10,00,000\n",
    "from pyspark.sql import functions as F\n",
    "\n",
    "loan_df = loan_df.withColumn(\"Loan Amount\", F.regexp_replace(\"Loan Amount\", \",\", \"\").cast(\"double\"))\n",
    "\n",
    "loan_df.createOrReplaceTempView(\"loan_data\")\n",
    "\n",
    "filtered_data = spark.sql(\"\"\"\n",
    "    SELECT * FROM loan_data\n",
    "    WHERE `Loan Amount` > 10000\n",
    "\"\"\")\n",
    "filtered_data.show()\n"
   ]
  },
  {
   "cell_type": "code",
   "execution_count": 0,
   "metadata": {
    "application/vnd.databricks.v1+cell": {
     "cellMetadata": {
      "byteLimit": 2048000,
      "rowLimit": 10000
     },
     "inputWidgets": {},
     "nuid": "c4cbd3d4-dbe9-4cc1-8117-d716a3f1ac63",
     "showTitle": false,
     "tableResultSettingsMap": {},
     "title": ""
    }
   },
   "outputs": [
    {
     "output_type": "stream",
     "name": "stdout",
     "output_type": "stream",
     "text": [
      "+-----------+---+------+------------+--------------+-----------+------+-----------+-------------+-------------+-----------+-------+------------+----------------+------------------+---------------+\n|Customer_ID|Age|Gender|  Occupation|Marital Status|Family Size|Income|Expenditure|Use Frequency|Loan Category|Loan Amount|Overdue| Debt Record| Returned Cheque| Dishonour of Bill|Approval_Status|\n+-----------+---+------+------------+--------------+-----------+------+-----------+-------------+-------------+-----------+-------+------------+----------------+------------------+---------------+\n|    IB14001| 30|  MALE|BANK MANAGER|        SINGLE|          4| 50000|      22199|            6|      HOUSING|  1000000.0|      5|      42,898|               6|                 9|       Approved|\n|    IB14008| 44|  MALE|   PROFESSOR|       MARRIED|          6| 51000|      19999|            4|     SHOPPING|    50000.0|      3|      33,999|               1|                 5|         Denied|\n|    IB14012| 30|FEMALE|     DENTIST|        SINGLE|          3| 58450|      27675|            5|   TRAVELLING|    75000.0|      6|      20,876|               3|                 1|       Approved|\n|    IB14018| 29|  MALE|     TEACHER|       MARRIED|          5| 45767|      12787|            3|    GOLD LOAN|   600000.0|      7|      11,000|               0|                 4|       Approved|\n|    IB14022| 34|  MALE|      POLICE|        SINGLE|          4| 43521|      11999|            3|   AUTOMOBILE|   200000.0|      2|      43,898|               1|                 2|         Denied|\n|    IB14024| 55|FEMALE|       NURSE|       MARRIED|          6| 34999|      19888|            4|   AUTOMOBILE|    47787.0|      1|      50,000|               0|                 3|       Approved|\n+-----------+---+------+------------+--------------+-----------+------+-----------+-------------+-------------+-----------+-------+------------+----------------+------------------+---------------+\n\n"
     ]
    }
   ],
   "source": [
    " #inner join\n",
    "\n",
    "# Sample loan approval data (For demonstration of joins)\n",
    "loan_approval_data = [\n",
    "    ('IB14001', 'Approved'),\n",
    "    ('IB14008', 'Denied'),\n",
    "    ('IB14012', 'Approved'),\n",
    "    ('IB14018', 'Approved'),\n",
    "    ('IB14022', 'Denied'),\n",
    "    ('IB14024', 'Approved'),\n",
    "]\n",
    "\n",
    "#DataFrame for loan approval data\n",
    "loan_approval_columns = ['Customer_ID', 'Approval_Status']\n",
    "loan_approval_df = spark.createDataFrame(loan_approval_data, loan_approval_columns)\n",
    "\n",
    "loan_approval_df.createOrReplaceTempView(\"loan_approval_data\")\n",
    "\n",
    "# Perform an inner join between loan_data and loan_approval_data\n",
    "joined_data = spark.sql(\"\"\"\n",
    "    SELECT a.*, b.Approval_Status\n",
    "    FROM loan_data a\n",
    "    JOIN loan_approval_data b\n",
    "    ON a.Customer_ID = b.Customer_ID\n",
    "\"\"\")\n",
    "joined_data.show()\n"
   ]
  },
  {
   "cell_type": "code",
   "execution_count": 0,
   "metadata": {
    "application/vnd.databricks.v1+cell": {
     "cellMetadata": {
      "byteLimit": 2048000,
      "rowLimit": 10000
     },
     "inputWidgets": {},
     "nuid": "0b1789d8-6847-41d0-805b-fc4d5aa0f36b",
     "showTitle": false,
     "tableResultSettingsMap": {},
     "title": ""
    }
   },
   "outputs": [
    {
     "output_type": "stream",
     "name": "stdout",
     "output_type": "stream",
     "text": [
      "+-----------+---+------+-------------------+--------------+-----------+------+-----------+-------------+------------------+-----------+-------+------------+----------------+------------------+---------------+\n|Customer_ID|Age|Gender|         Occupation|Marital Status|Family Size|Income|Expenditure|Use Frequency|     Loan Category|Loan Amount|Overdue| Debt Record| Returned Cheque| Dishonour of Bill|Approval_Status|\n+-----------+---+------+-------------------+--------------+-----------+------+-----------+-------------+------------------+-----------+-------+------------+----------------+------------------+---------------+\n|    IB14001| 30|  MALE|       BANK MANAGER|        SINGLE|          4| 50000|      22199|            6|           HOUSING|  1000000.0|      5|      42,898|               6|                 9|       Approved|\n|    IB14008| 44|  MALE|          PROFESSOR|       MARRIED|          6| 51000|      19999|            4|          SHOPPING|    50000.0|      3|      33,999|               1|                 5|         Denied|\n|    IB14012| 30|FEMALE|            DENTIST|        SINGLE|          3| 58450|      27675|            5|        TRAVELLING|    75000.0|      6|      20,876|               3|                 1|       Approved|\n|    IB14018| 29|  MALE|            TEACHER|       MARRIED|          5| 45767|      12787|            3|         GOLD LOAN|   600000.0|      7|      11,000|               0|                 4|       Approved|\n|    IB14022| 34|  MALE|             POLICE|        SINGLE|          4| 43521|      11999|            3|        AUTOMOBILE|   200000.0|      2|      43,898|               1|                 2|         Denied|\n|    IB14024| 55|FEMALE|              NURSE|       MARRIED|          6| 34999|      19888|            4|        AUTOMOBILE|    47787.0|      1|      50,000|               0|                 3|       Approved|\n|    IB14025| 39|FEMALE|            TEACHER|       MARRIED|          6| 46619|      18675|            4|           HOUSING|  1209867.0|      8|      29,999|               6|                 8|           NULL|\n|    IB14027| 51|  MALE|     SYSTEM MANAGER|       MARRIED|          3| 49999|      19111|            5|       RESTAURANTS|    60676.0|      8|      13,000|               2|                 5|           NULL|\n|    IB14029| 24|FEMALE|            TEACHER|        SINGLE|          3| 45008|      17454|            4|        AUTOMOBILE|   399435.0|      9|      51,987|               4|                 7|           NULL|\n|    IB14031| 37|FEMALE|  SOFTWARE ENGINEER|       MARRIED|          5| 55999|      23999|            5|        AUTOMOBILE|    60999.0|      2|           0|               5|                 3|           NULL|\n|    IB14032| 24|  MALE|       DATA ANALYST|        SINGLE|          4| 60111|      28999|            6|        AUTOMOBILE|    35232.0|      5|      33,333|               1|                 2|           NULL|\n|    IB14034| 32|  MALE|   PRODUCT ENGINEER|       MARRIED|          6|  NULL|      29000|            7|COMPUTER SOFTWARES|    80660.0|      6|       4,500|               5|                 4|           NULL|\n|    IB14037| 54|FEMALE|            TEACHER|       MARRIED|          5| 48099|      19999|            4|       RESTAURANTS|    30999.0|      1|      12,000|               7|                 5|           NULL|\n|    IB14039| 45|  MALE|    ACCOUNT MANAGER|       MARRIED|          7| 45777|      18452|            4|         GOLD LOAN|   987611.0|      7|      39,999|               8|                 1|           NULL|\n|    IB14041| 59|FEMALE|ASSISTANT PROFESSOR|       MARRIED|          4| 50999|      22999|            5|  EDUCATIONAL LOAN|   599934.0|      3|       9,000|               9|                 9|           NULL|\n|    IB14042| 25|FEMALE|             DOCTOR|        SINGLE|          4| 60111|      27111|            5|        TRAVELLING|  1290929.0|      4|      18,000|               1|                 0|           NULL|\n|    IB14045| 31|  MALE|       STORE KEEPER|        SINGLE|          5| 40999|      11999|            3|       BOOK STORES|   167654.0|      1|       4,500|               0|                 1|           NULL|\n|    IB14049| 49|  MALE|       BANK MANAGER|       MARRIED|          4| 45999|      14500|            4|        TRAVELLING|    79999.0|      4|       6,700|               7|                 3|           NULL|\n|    IB14050| 56|  MALE|     CIVIL ENGINEER|       MARRIED|          4|  NULL|      13999|            3|           HOUSING|  1065577.0|      6|      19,999|               4|                 2|           NULL|\n|    IB14054| 58|FEMALE|             DOCTOR|       MARRIED|          5| 60000|      25000|            5|           HOUSING|   900000.0|      5|      21,000|               9|                 0|           NULL|\n+-----------+---+------+-------------------+--------------+-----------+------+-----------+-------------+------------------+-----------+-------+------------+----------------+------------------+---------------+\nonly showing top 20 rows\n\n"
     ]
    }
   ],
   "source": [
    "# Perform a left join between loan_data and loan_approval_data\n",
    "left_joined_data = spark.sql(\"\"\"\n",
    "    SELECT a.*, b.Approval_Status\n",
    "    FROM loan_data a\n",
    "    LEFT JOIN loan_approval_data b\n",
    "    ON a.Customer_ID = b.Customer_ID\n",
    "\"\"\")\n",
    "left_joined_data.show()\n"
   ]
  },
  {
   "cell_type": "code",
   "execution_count": 0,
   "metadata": {
    "application/vnd.databricks.v1+cell": {
     "cellMetadata": {
      "byteLimit": 2048000,
      "rowLimit": 10000
     },
     "inputWidgets": {},
     "nuid": "e51a6b50-3299-422a-80ac-45a29dbc088a",
     "showTitle": false,
     "tableResultSettingsMap": {},
     "title": ""
    }
   },
   "outputs": [
    {
     "output_type": "stream",
     "name": "stdout",
     "output_type": "stream",
     "text": [
      "+-----------+---+------+------------+--------------+-----------+------+-----------+-------------+-------------+-----------+-------+------------+----------------+------------------+---------------+\n|Customer_ID|Age|Gender|  Occupation|Marital Status|Family Size|Income|Expenditure|Use Frequency|Loan Category|Loan Amount|Overdue| Debt Record| Returned Cheque| Dishonour of Bill|Approval_Status|\n+-----------+---+------+------------+--------------+-----------+------+-----------+-------------+-------------+-----------+-------+------------+----------------+------------------+---------------+\n|    IB14001| 30|  MALE|BANK MANAGER|        SINGLE|          4| 50000|      22199|            6|      HOUSING|  1000000.0|      5|      42,898|               6|                 9|       Approved|\n|    IB14008| 44|  MALE|   PROFESSOR|       MARRIED|          6| 51000|      19999|            4|     SHOPPING|    50000.0|      3|      33,999|               1|                 5|         Denied|\n|    IB14012| 30|FEMALE|     DENTIST|        SINGLE|          3| 58450|      27675|            5|   TRAVELLING|    75000.0|      6|      20,876|               3|                 1|       Approved|\n|    IB14018| 29|  MALE|     TEACHER|       MARRIED|          5| 45767|      12787|            3|    GOLD LOAN|   600000.0|      7|      11,000|               0|                 4|       Approved|\n|    IB14022| 34|  MALE|      POLICE|        SINGLE|          4| 43521|      11999|            3|   AUTOMOBILE|   200000.0|      2|      43,898|               1|                 2|         Denied|\n|    IB14024| 55|FEMALE|       NURSE|       MARRIED|          6| 34999|      19888|            4|   AUTOMOBILE|    47787.0|      1|      50,000|               0|                 3|       Approved|\n+-----------+---+------+------------+--------------+-----------+------+-----------+-------------+-------------+-----------+-------+------------+----------------+------------------+---------------+\n\n"
     ]
    }
   ],
   "source": [
    "# Perform a right join between loan_data and loan_approval_data\n",
    "right_joined_data = spark.sql(\"\"\"\n",
    "    SELECT a.*, b.Approval_Status\n",
    "    FROM loan_data a\n",
    "    RIGHT JOIN loan_approval_data b\n",
    "    ON a.Customer_ID = b.Customer_ID\n",
    "\"\"\")\n",
    "right_joined_data.show()\n"
   ]
  },
  {
   "cell_type": "code",
   "execution_count": 0,
   "metadata": {
    "application/vnd.databricks.v1+cell": {
     "cellMetadata": {
      "byteLimit": 2048000,
      "rowLimit": 10000
     },
     "inputWidgets": {},
     "nuid": "6f6d8c02-111e-4f03-9228-3518b1c1825c",
     "showTitle": false,
     "tableResultSettingsMap": {},
     "title": ""
    }
   },
   "outputs": [
    {
     "output_type": "stream",
     "name": "stdout",
     "output_type": "stream",
     "text": [
      "+-----------+---+------+-------------------+--------------+-----------+------+-----------+-------------+------------------+-----------+-------+------------+----------------+------------------+---------------+\n|Customer_ID|Age|Gender|         Occupation|Marital Status|Family Size|Income|Expenditure|Use Frequency|     Loan Category|Loan Amount|Overdue| Debt Record| Returned Cheque| Dishonour of Bill|Approval_Status|\n+-----------+---+------+-------------------+--------------+-----------+------+-----------+-------------+------------------+-----------+-------+------------+----------------+------------------+---------------+\n|    1B14093| 21|FEMALE|            MANAGER|        SINGLE|          3| 42516|      24567|            7|        AUTOMOBILE|  2569874.0|      8|      89,652|               2|                 3|           NULL|\n|    1B14094| 49|  MALE|ASSISTANT PROFESSOR|       MARRIED|          5| 65214|      42589|            5|           HOUSING|   985412.0|      5|      11,254|               1|                 2|           NULL|\n|    1B14312| 21|FEMALE|            MANAGER|        SINGLE|          3| 42516|      24567|            7|  EDUCATIONAL LOAN|  2569874.0|      8|      89,652|               2|                 3|           NULL|\n|    1B14315| 49|  MALE|ASSISTANT PROFESSOR|       MARRIED|          5| 65214|      42589|            5|           HOUSING|   985412.0|      5|      11,254|               1|                 2|           NULL|\n|    IB14001| 30|  MALE|       BANK MANAGER|        SINGLE|          4| 50000|      22199|            6|           HOUSING|  1000000.0|      5|      42,898|               6|                 9|       Approved|\n|    IB14008| 44|  MALE|          PROFESSOR|       MARRIED|          6| 51000|      19999|            4|          SHOPPING|    50000.0|      3|      33,999|               1|                 5|         Denied|\n|    IB14012| 30|FEMALE|            DENTIST|        SINGLE|          3| 58450|      27675|            5|        TRAVELLING|    75000.0|      6|      20,876|               3|                 1|       Approved|\n|    IB14018| 29|  MALE|            TEACHER|       MARRIED|          5| 45767|      12787|            3|         GOLD LOAN|   600000.0|      7|      11,000|               0|                 4|       Approved|\n|    IB14022| 34|  MALE|             POLICE|        SINGLE|          4| 43521|      11999|            3|        AUTOMOBILE|   200000.0|      2|      43,898|               1|                 2|         Denied|\n|    IB14024| 55|FEMALE|              NURSE|       MARRIED|          6| 34999|      19888|            4|        AUTOMOBILE|    47787.0|      1|      50,000|               0|                 3|       Approved|\n|    IB14025| 39|FEMALE|            TEACHER|       MARRIED|          6| 46619|      18675|            4|           HOUSING|  1209867.0|      8|      29,999|               6|                 8|           NULL|\n|    IB14027| 51|  MALE|     SYSTEM MANAGER|       MARRIED|          3| 49999|      19111|            5|       RESTAURANTS|    60676.0|      8|      13,000|               2|                 5|           NULL|\n|    IB14029| 24|FEMALE|            TEACHER|        SINGLE|          3| 45008|      17454|            4|        AUTOMOBILE|   399435.0|      9|      51,987|               4|                 7|           NULL|\n|    IB14031| 37|FEMALE|  SOFTWARE ENGINEER|       MARRIED|          5| 55999|      23999|            5|        AUTOMOBILE|    60999.0|      2|           0|               5|                 3|           NULL|\n|    IB14032| 24|  MALE|       DATA ANALYST|        SINGLE|          4| 60111|      28999|            6|        AUTOMOBILE|    35232.0|      5|      33,333|               1|                 2|           NULL|\n|    IB14034| 32|  MALE|   PRODUCT ENGINEER|       MARRIED|          6|  NULL|      29000|            7|COMPUTER SOFTWARES|    80660.0|      6|       4,500|               5|                 4|           NULL|\n|    IB14037| 54|FEMALE|            TEACHER|       MARRIED|          5| 48099|      19999|            4|       RESTAURANTS|    30999.0|      1|      12,000|               7|                 5|           NULL|\n|    IB14039| 45|  MALE|    ACCOUNT MANAGER|       MARRIED|          7| 45777|      18452|            4|         GOLD LOAN|   987611.0|      7|      39,999|               8|                 1|           NULL|\n|    IB14041| 59|FEMALE|ASSISTANT PROFESSOR|       MARRIED|          4| 50999|      22999|            5|  EDUCATIONAL LOAN|   599934.0|      3|       9,000|               9|                 9|           NULL|\n|    IB14042| 25|FEMALE|             DOCTOR|        SINGLE|          4| 60111|      27111|            5|        TRAVELLING|  1290929.0|      4|      18,000|               1|                 0|           NULL|\n+-----------+---+------+-------------------+--------------+-----------+------+-----------+-------------+------------------+-----------+-------+------------+----------------+------------------+---------------+\nonly showing top 20 rows\n\n"
     ]
    }
   ],
   "source": [
    "# Perform a full outer join between loan_data and loan_approval_data\n",
    "outer_joined_data = spark.sql(\"\"\"\n",
    "    SELECT a.*, b.Approval_Status\n",
    "    FROM loan_data a\n",
    "    FULL OUTER JOIN loan_approval_data b\n",
    "    ON a.Customer_ID = b.Customer_ID\n",
    "\"\"\")\n",
    "outer_joined_data.show()\n"
   ]
  },
  {
   "cell_type": "code",
   "execution_count": 0,
   "metadata": {
    "application/vnd.databricks.v1+cell": {
     "cellMetadata": {
      "byteLimit": 2048000,
      "rowLimit": 10000
     },
     "inputWidgets": {},
     "nuid": "e3a2d561-5952-4d31-ac54-4952e4a10d99",
     "showTitle": false,
     "tableResultSettingsMap": {},
     "title": ""
    }
   },
   "outputs": [
    {
     "output_type": "stream",
     "name": "stdout",
     "output_type": "stream",
     "text": [
      "+--------------------+------------------+\n|          Occupation|          avg_loan|\n+--------------------+------------------+\n|      CIVIL ENGINEER| 819806.3333333334|\n|     FIRE DEPARTMENT| 955125.1666666666|\n|          ACCOUNTANT|1223623.2857142857|\n|        BANK MANAGER| 629305.6071428572|\n|      SYSTEM OFFICER|          290192.0|\n|           NUTRITION|          456780.0|\n|           DIETICIAN| 625974.4615384615|\n|               CLERK| 633292.7307692308|\n|   SOFTWARE ENGINEER|          755663.0|\n|AGRICULTURAL ENGI...|          767338.0|\n|   ASSISTANT MANAGER|          729638.5|\n|             TEACHER| 681778.6349206349|\n| ASSISTANT PROFESSOR| 577495.8888888889|\n|     SYSTEM ENGINEER|          989510.0|\n| CHARTERED APPRAISER|1023088.6363636364|\n|                NAVY|          880523.0|\n|              POLICE| 690967.7222222222|\n|            BUSINESS|        952763.875|\n|              FARMER|494617.14285714284|\n|              DRIVER| 922293.3888888889|\n+--------------------+------------------+\nonly showing top 20 rows\n\n"
     ]
    }
   ],
   "source": [
    "# Aggregation: Average Loan Amount per Occupation\n",
    "avg_loan_per_occupation = spark.sql(\"\"\"\n",
    "    SELECT Occupation, AVG(`Loan Amount`) AS avg_loan\n",
    "    FROM loan_data\n",
    "    GROUP BY Occupation\n",
    "\"\"\")\n",
    "avg_loan_per_occupation.show()\n"
   ]
  },
  {
   "cell_type": "code",
   "execution_count": 0,
   "metadata": {
    "application/vnd.databricks.v1+cell": {
     "cellMetadata": {
      "byteLimit": 2048000,
      "rowLimit": 10000
     },
     "inputWidgets": {},
     "nuid": "e0887e04-2ede-4649-b486-183d5dbd009d",
     "showTitle": false,
     "tableResultSettingsMap": {},
     "title": ""
    }
   },
   "outputs": [
    {
     "output_type": "stream",
     "name": "stdout",
     "output_type": "stream",
     "text": [
      "+--------------+------------+\n|Marital Status|total_income|\n+--------------+------------+\n|        SINGLE|     8756569|\n|       MARRIED|    23226313|\n+--------------+------------+\n\n"
     ]
    }
   ],
   "source": [
    "# GroupBy: Total Income by Marital Status\n",
    "total_income_per_status = spark.sql(\"\"\"\n",
    "    SELECT `Marital Status`, SUM(Income) AS total_income\n",
    "    FROM loan_data\n",
    "    GROUP BY `Marital Status`\n",
    "\"\"\")\n",
    "total_income_per_status.show()\n"
   ]
  },
  {
   "cell_type": "code",
   "execution_count": 0,
   "metadata": {
    "application/vnd.databricks.v1+cell": {
     "cellMetadata": {
      "byteLimit": 2048000,
      "rowLimit": 10000
     },
     "inputWidgets": {},
     "nuid": "bdfb68ce-f81f-4828-abb9-0938db00032c",
     "showTitle": false,
     "tableResultSettingsMap": {},
     "title": ""
    }
   },
   "outputs": [
    {
     "output_type": "stream",
     "name": "stdout",
     "output_type": "stream",
     "text": [
      "+------------+\n|  total_loan|\n+------------+\n|1.12118685E8|\n+------------+\n\n"
     ]
    }
   ],
   "source": [
    "# Filter and Aggregate: Total Loan Amount for SINGLE marital status\n",
    "single_marital_status = spark.sql(\"\"\"\n",
    "    SELECT SUM(`Loan Amount`) AS total_loan\n",
    "    FROM loan_data\n",
    "    WHERE `Marital Status` = 'SINGLE'\n",
    "\"\"\")\n",
    "single_marital_status.show()\n"
   ]
  },
  {
   "cell_type": "code",
   "execution_count": 0,
   "metadata": {
    "application/vnd.databricks.v1+cell": {
     "cellMetadata": {
      "byteLimit": 2048000,
      "rowLimit": 10000
     },
     "inputWidgets": {},
     "nuid": "ebd81942-0906-4fea-b647-419f577df81f",
     "showTitle": false,
     "tableResultSettingsMap": {},
     "title": ""
    }
   },
   "outputs": [],
   "source": [
    "#PySpark"
   ]
  },
  {
   "cell_type": "code",
   "execution_count": 0,
   "metadata": {
    "application/vnd.databricks.v1+cell": {
     "cellMetadata": {
      "byteLimit": 2048000,
      "rowLimit": 10000
     },
     "inputWidgets": {},
     "nuid": "b1b1a9ee-6d7e-4111-ac94-b0f374fdff8e",
     "showTitle": false,
     "tableResultSettingsMap": {},
     "title": ""
    }
   },
   "outputs": [
    {
     "output_type": "stream",
     "name": "stdout",
     "output_type": "stream",
     "text": [
      "+-----------+---+------+-----------------+--------------+-----------+------+-----------+-------------+------------------+-----------+-------+------------+----------------+------------------+\n|Customer_ID|Age|Gender|       Occupation|Marital Status|Family Size|Income|Expenditure|Use Frequency|     Loan Category|Loan Amount|Overdue| Debt Record| Returned Cheque| Dishonour of Bill|\n+-----------+---+------+-----------------+--------------+-----------+------+-----------+-------------+------------------+-----------+-------+------------+----------------+------------------+\n|    IB14025| 39|FEMALE|          TEACHER|       MARRIED|          6| 46619|      18675|            4|           HOUSING|  1209867.0|      8|      29,999|               6|                 8|\n|    IB14042| 25|FEMALE|           DOCTOR|        SINGLE|          4| 60111|      27111|            5|        TRAVELLING|  1290929.0|      4|      18,000|               1|                 0|\n|    IB14050| 56|  MALE|   CIVIL ENGINEER|       MARRIED|          4|  NULL|      13999|            3|           HOUSING|  1065577.0|      6|      19,999|               4|                 2|\n|    IB14089| 25|  MALE|        PROFESSOR|        SINGLE|          5| 62145|      31254|            4|       BOOK STORES|  1245789.0|      6|      48,596|               6|                 5|\n|    1B14093| 21|FEMALE|          MANAGER|        SINGLE|          3| 42516|      24567|            7|        AUTOMOBILE|  2569874.0|      8|      89,652|               2|                 3|\n|    IB14096| 33|FEMALE|            CLERK|       MARRIED|          3| 35684|      15247|            3|       RESTAURANTS|  1452637.0|      3|      13,547|               3|                 2|\n|    IB14104| 54|  MALE|  AIRPORT OFFICER|       MARRIED|          6| 80000|      32541|            2|        AUTOMOBILE|  2045789.0|      1|      16,599|               2|                 3|\n|    IB14106| 29|  MALE|  FIRE DEPARTMENT|       MARRIED|          5| 45213|      32457|            9|        TRAVELLING|  1524789.0|      7|      90,000|               2|                 5|\n|    IB14107| 44|FEMALE|  ACCOUNT MANAGER|       MARRIED|          4|800000|      15632|            8|        AUTOMOBILE|  2365478.0|      5|      20,145|               3|                 4|\n|    IB14111| 57|FEMALE|CORPORATE OFFICER|       MARRIED|          3| 52143|       NULL|            4|COMPUTER SOFTWARES|  7541236.0|      4|      11,111|               3|                 2|\n|    IB14125| 29|FEMALE|          TEACHER|       MARRIED|          4| 59999|      42568|            4|        AUTOMOBILE|  5214789.0|      5|      17,452|               2|                 2|\n|    IBI4153| 58|  MALE|  SYSTEM ENGINEER|       MARRIED|          6| 76800|       NULL|            5|        TRAVELLING|  1659080.0|      6|      29,000|               5|                 3|\n|    IB14158| 54|  MALE|  AIRPORT OFFICER|       MARRIED|          6| 80000|      62541|            2|        AUTOMOBILE|  2045789.0|      1|      16,599|               2|                 3|\n|    IB14160| 29|  MALE|  FIRE DEPARTMENT|       MARRIED|          5| 45213|      32457|            9|        TRAVELLING|  1524789.0|      7|      90,000|               2|                 5|\n|    IB14163| 44|FEMALE|  ACCOUNT MANAGER|       MARRIED|          4|800000|      15632|            8|COMPUTER SOFTWARES|  2365478.0|      5|      20,145|               3|                 4|\n|    IB14167| 57|FEMALE|CORPORATE OFFICER|       MARRIED|          3| 52143|       NULL|            4|        AUTOMOBILE|  7541236.0|      4|      11,111|               3|                 2|\n|    IB14176| 54|  MALE|  AIRPORT OFFICER|       MARRIED|          6| 80000|      62541|            2|           HOUSING|  2045789.0|      1|      16,599|               2|                 3|\n|    IB14204| 54|  MALE|  AIRPORT OFFICER|       MARRIED|          6| 81000|      62541|            2|           DINNING|  2045789.0|      1|      16,599|               2|                 3|\n|    IB14225| 56|  MALE|   CIVIL ENGINEER|       MARRIED|          4|  NULL|      13999|            3|           HOUSING|  1065577.0|      6|      19,999|               4|                 2|\n|    IB14227| 54|  MALE|  AIRPORT OFFICER|       MARRIED|          6| 80000|      62541|            2|           HOUSING|  2045789.0|      1|      16,599|               2|                 3|\n+-----------+---+------+-----------------+--------------+-----------+------+-----------+-------------+------------------+-----------+-------+------------+----------------+------------------+\nonly showing top 20 rows\n\n"
     ]
    }
   ],
   "source": [
    "\n",
    "# Filter: Loan Amount greater than 1,000,000\n",
    "filtered_df = loan_df.filter(loan_df['Loan Amount'] > 1000000)\n",
    "filtered_df.show()\n"
   ]
  },
  {
   "cell_type": "code",
   "execution_count": 0,
   "metadata": {
    "application/vnd.databricks.v1+cell": {
     "cellMetadata": {
      "byteLimit": 2048000,
      "rowLimit": 10000
     },
     "inputWidgets": {},
     "nuid": "2f67b4b0-967e-436e-b3b4-0e5ed3b9f9d1",
     "showTitle": false,
     "tableResultSettingsMap": {},
     "title": ""
    }
   },
   "outputs": [
    {
     "output_type": "stream",
     "name": "stdout",
     "output_type": "stream",
     "text": [
      "+-----------+---+------+------------+--------------+-----------+------+-----------+-------------+-------------+-----------+-------+------------+----------------+------------------+-----------+---------------+\n|Customer_ID|Age|Gender|  Occupation|Marital Status|Family Size|Income|Expenditure|Use Frequency|Loan Category|Loan Amount|Overdue| Debt Record| Returned Cheque| Dishonour of Bill|Customer_ID|Approval_Status|\n+-----------+---+------+------------+--------------+-----------+------+-----------+-------------+-------------+-----------+-------+------------+----------------+------------------+-----------+---------------+\n|    IB14001| 30|  MALE|BANK MANAGER|        SINGLE|          4| 50000|      22199|            6|      HOUSING|  1000000.0|      5|      42,898|               6|                 9|    IB14001|       Approved|\n|    IB14008| 44|  MALE|   PROFESSOR|       MARRIED|          6| 51000|      19999|            4|     SHOPPING|    50000.0|      3|      33,999|               1|                 5|    IB14008|         Denied|\n|    IB14012| 30|FEMALE|     DENTIST|        SINGLE|          3| 58450|      27675|            5|   TRAVELLING|    75000.0|      6|      20,876|               3|                 1|    IB14012|       Approved|\n|    IB14018| 29|  MALE|     TEACHER|       MARRIED|          5| 45767|      12787|            3|    GOLD LOAN|   600000.0|      7|      11,000|               0|                 4|    IB14018|       Approved|\n|    IB14022| 34|  MALE|      POLICE|        SINGLE|          4| 43521|      11999|            3|   AUTOMOBILE|   200000.0|      2|      43,898|               1|                 2|    IB14022|         Denied|\n|    IB14024| 55|FEMALE|       NURSE|       MARRIED|          6| 34999|      19888|            4|   AUTOMOBILE|    47787.0|      1|      50,000|               0|                 3|    IB14024|       Approved|\n+-----------+---+------+------------+--------------+-----------+------+-----------+-------------+-------------+-----------+-------+------------+----------------+------------------+-----------+---------------+\n\n"
     ]
    }
   ],
   "source": [
    "#inner join\n",
    "inner_joined_data = loan_df.join(loan_approval_df, loan_df.Customer_ID == loan_approval_df.Customer_ID, \"inner\")\n",
    "\n",
    "# Show the result\n",
    "inner_joined_data.show()\n",
    "\n"
   ]
  },
  {
   "cell_type": "code",
   "execution_count": 0,
   "metadata": {
    "application/vnd.databricks.v1+cell": {
     "cellMetadata": {
      "byteLimit": 2048000,
      "rowLimit": 10000
     },
     "inputWidgets": {},
     "nuid": "7b6fe4e9-1eaf-4394-87a7-53f2b1765a6b",
     "showTitle": false,
     "tableResultSettingsMap": {},
     "title": ""
    }
   },
   "outputs": [
    {
     "output_type": "stream",
     "name": "stdout",
     "output_type": "stream",
     "text": [
      "+-----------+---+------+-------------------+--------------+-----------+------+-----------+-------------+------------------+-----------+-------+------------+----------------+------------------+-----------+---------------+\n|Customer_ID|Age|Gender|         Occupation|Marital Status|Family Size|Income|Expenditure|Use Frequency|     Loan Category|Loan Amount|Overdue| Debt Record| Returned Cheque| Dishonour of Bill|Customer_ID|Approval_Status|\n+-----------+---+------+-------------------+--------------+-----------+------+-----------+-------------+------------------+-----------+-------+------------+----------------+------------------+-----------+---------------+\n|    IB14001| 30|  MALE|       BANK MANAGER|        SINGLE|          4| 50000|      22199|            6|           HOUSING|  1000000.0|      5|      42,898|               6|                 9|    IB14001|       Approved|\n|    IB14008| 44|  MALE|          PROFESSOR|       MARRIED|          6| 51000|      19999|            4|          SHOPPING|    50000.0|      3|      33,999|               1|                 5|    IB14008|         Denied|\n|    IB14012| 30|FEMALE|            DENTIST|        SINGLE|          3| 58450|      27675|            5|        TRAVELLING|    75000.0|      6|      20,876|               3|                 1|    IB14012|       Approved|\n|    IB14018| 29|  MALE|            TEACHER|       MARRIED|          5| 45767|      12787|            3|         GOLD LOAN|   600000.0|      7|      11,000|               0|                 4|    IB14018|       Approved|\n|    IB14022| 34|  MALE|             POLICE|        SINGLE|          4| 43521|      11999|            3|        AUTOMOBILE|   200000.0|      2|      43,898|               1|                 2|    IB14022|         Denied|\n|    IB14024| 55|FEMALE|              NURSE|       MARRIED|          6| 34999|      19888|            4|        AUTOMOBILE|    47787.0|      1|      50,000|               0|                 3|    IB14024|       Approved|\n|    IB14025| 39|FEMALE|            TEACHER|       MARRIED|          6| 46619|      18675|            4|           HOUSING|  1209867.0|      8|      29,999|               6|                 8|       NULL|           NULL|\n|    IB14027| 51|  MALE|     SYSTEM MANAGER|       MARRIED|          3| 49999|      19111|            5|       RESTAURANTS|    60676.0|      8|      13,000|               2|                 5|       NULL|           NULL|\n|    IB14029| 24|FEMALE|            TEACHER|        SINGLE|          3| 45008|      17454|            4|        AUTOMOBILE|   399435.0|      9|      51,987|               4|                 7|       NULL|           NULL|\n|    IB14031| 37|FEMALE|  SOFTWARE ENGINEER|       MARRIED|          5| 55999|      23999|            5|        AUTOMOBILE|    60999.0|      2|           0|               5|                 3|       NULL|           NULL|\n|    IB14032| 24|  MALE|       DATA ANALYST|        SINGLE|          4| 60111|      28999|            6|        AUTOMOBILE|    35232.0|      5|      33,333|               1|                 2|       NULL|           NULL|\n|    IB14034| 32|  MALE|   PRODUCT ENGINEER|       MARRIED|          6|  NULL|      29000|            7|COMPUTER SOFTWARES|    80660.0|      6|       4,500|               5|                 4|       NULL|           NULL|\n|    IB14037| 54|FEMALE|            TEACHER|       MARRIED|          5| 48099|      19999|            4|       RESTAURANTS|    30999.0|      1|      12,000|               7|                 5|       NULL|           NULL|\n|    IB14039| 45|  MALE|    ACCOUNT MANAGER|       MARRIED|          7| 45777|      18452|            4|         GOLD LOAN|   987611.0|      7|      39,999|               8|                 1|       NULL|           NULL|\n|    IB14041| 59|FEMALE|ASSISTANT PROFESSOR|       MARRIED|          4| 50999|      22999|            5|  EDUCATIONAL LOAN|   599934.0|      3|       9,000|               9|                 9|       NULL|           NULL|\n|    IB14042| 25|FEMALE|             DOCTOR|        SINGLE|          4| 60111|      27111|            5|        TRAVELLING|  1290929.0|      4|      18,000|               1|                 0|       NULL|           NULL|\n|    IB14045| 31|  MALE|       STORE KEEPER|        SINGLE|          5| 40999|      11999|            3|       BOOK STORES|   167654.0|      1|       4,500|               0|                 1|       NULL|           NULL|\n|    IB14049| 49|  MALE|       BANK MANAGER|       MARRIED|          4| 45999|      14500|            4|        TRAVELLING|    79999.0|      4|       6,700|               7|                 3|       NULL|           NULL|\n|    IB14050| 56|  MALE|     CIVIL ENGINEER|       MARRIED|          4|  NULL|      13999|            3|           HOUSING|  1065577.0|      6|      19,999|               4|                 2|       NULL|           NULL|\n|    IB14054| 58|FEMALE|             DOCTOR|       MARRIED|          5| 60000|      25000|            5|           HOUSING|   900000.0|      5|      21,000|               9|                 0|       NULL|           NULL|\n+-----------+---+------+-------------------+--------------+-----------+------+-----------+-------------+------------------+-----------+-------+------------+----------------+------------------+-----------+---------------+\nonly showing top 20 rows\n\n"
     ]
    }
   ],
   "source": [
    "#left join\n",
    "left_joined_data = loan_df.join(loan_approval_df, loan_df.Customer_ID == loan_approval_df.Customer_ID, \"left\")\n",
    "\n",
    "# Show the result\n",
    "left_joined_data.show()\n",
    "\n"
   ]
  },
  {
   "cell_type": "code",
   "execution_count": 0,
   "metadata": {
    "application/vnd.databricks.v1+cell": {
     "cellMetadata": {
      "byteLimit": 2048000,
      "rowLimit": 10000
     },
     "inputWidgets": {},
     "nuid": "035f4319-324b-40ec-b8de-a4cd32903d8b",
     "showTitle": false,
     "tableResultSettingsMap": {},
     "title": ""
    }
   },
   "outputs": [
    {
     "output_type": "stream",
     "name": "stdout",
     "output_type": "stream",
     "text": [
      "+-----------+---+------+------------+--------------+-----------+------+-----------+-------------+-------------+-----------+-------+------------+----------------+------------------+-----------+---------------+\n|Customer_ID|Age|Gender|  Occupation|Marital Status|Family Size|Income|Expenditure|Use Frequency|Loan Category|Loan Amount|Overdue| Debt Record| Returned Cheque| Dishonour of Bill|Customer_ID|Approval_Status|\n+-----------+---+------+------------+--------------+-----------+------+-----------+-------------+-------------+-----------+-------+------------+----------------+------------------+-----------+---------------+\n|    IB14001| 30|  MALE|BANK MANAGER|        SINGLE|          4| 50000|      22199|            6|      HOUSING|  1000000.0|      5|      42,898|               6|                 9|    IB14001|       Approved|\n|    IB14008| 44|  MALE|   PROFESSOR|       MARRIED|          6| 51000|      19999|            4|     SHOPPING|    50000.0|      3|      33,999|               1|                 5|    IB14008|         Denied|\n|    IB14012| 30|FEMALE|     DENTIST|        SINGLE|          3| 58450|      27675|            5|   TRAVELLING|    75000.0|      6|      20,876|               3|                 1|    IB14012|       Approved|\n|    IB14018| 29|  MALE|     TEACHER|       MARRIED|          5| 45767|      12787|            3|    GOLD LOAN|   600000.0|      7|      11,000|               0|                 4|    IB14018|       Approved|\n|    IB14022| 34|  MALE|      POLICE|        SINGLE|          4| 43521|      11999|            3|   AUTOMOBILE|   200000.0|      2|      43,898|               1|                 2|    IB14022|         Denied|\n|    IB14024| 55|FEMALE|       NURSE|       MARRIED|          6| 34999|      19888|            4|   AUTOMOBILE|    47787.0|      1|      50,000|               0|                 3|    IB14024|       Approved|\n+-----------+---+------+------------+--------------+-----------+------+-----------+-------------+-------------+-----------+-------+------------+----------------+------------------+-----------+---------------+\n\n"
     ]
    }
   ],
   "source": [
    "#right join\n",
    "right_joined_data = loan_df.join(loan_approval_df, loan_df.Customer_ID == loan_approval_df.Customer_ID, \"right\")\n",
    "\n",
    "# Show the result\n",
    "right_joined_data.show()\n"
   ]
  },
  {
   "cell_type": "code",
   "execution_count": 0,
   "metadata": {
    "application/vnd.databricks.v1+cell": {
     "cellMetadata": {
      "byteLimit": 2048000,
      "rowLimit": 10000
     },
     "inputWidgets": {},
     "nuid": "f30ac351-828e-49b9-b375-8e8742bf7cde",
     "showTitle": false,
     "tableResultSettingsMap": {},
     "title": ""
    }
   },
   "outputs": [
    {
     "output_type": "stream",
     "name": "stdout",
     "output_type": "stream",
     "text": [
      "+-----------+---+------+-------------------+--------------+-----------+------+-----------+-------------+------------------+-----------+-------+------------+----------------+------------------+-----------+---------------+\n|Customer_ID|Age|Gender|         Occupation|Marital Status|Family Size|Income|Expenditure|Use Frequency|     Loan Category|Loan Amount|Overdue| Debt Record| Returned Cheque| Dishonour of Bill|Customer_ID|Approval_Status|\n+-----------+---+------+-------------------+--------------+-----------+------+-----------+-------------+------------------+-----------+-------+------------+----------------+------------------+-----------+---------------+\n|    1B14093| 21|FEMALE|            MANAGER|        SINGLE|          3| 42516|      24567|            7|        AUTOMOBILE|  2569874.0|      8|      89,652|               2|                 3|       NULL|           NULL|\n|    1B14094| 49|  MALE|ASSISTANT PROFESSOR|       MARRIED|          5| 65214|      42589|            5|           HOUSING|   985412.0|      5|      11,254|               1|                 2|       NULL|           NULL|\n|    1B14312| 21|FEMALE|            MANAGER|        SINGLE|          3| 42516|      24567|            7|  EDUCATIONAL LOAN|  2569874.0|      8|      89,652|               2|                 3|       NULL|           NULL|\n|    1B14315| 49|  MALE|ASSISTANT PROFESSOR|       MARRIED|          5| 65214|      42589|            5|           HOUSING|   985412.0|      5|      11,254|               1|                 2|       NULL|           NULL|\n|    IB14001| 30|  MALE|       BANK MANAGER|        SINGLE|          4| 50000|      22199|            6|           HOUSING|  1000000.0|      5|      42,898|               6|                 9|    IB14001|       Approved|\n|    IB14008| 44|  MALE|          PROFESSOR|       MARRIED|          6| 51000|      19999|            4|          SHOPPING|    50000.0|      3|      33,999|               1|                 5|    IB14008|         Denied|\n|    IB14012| 30|FEMALE|            DENTIST|        SINGLE|          3| 58450|      27675|            5|        TRAVELLING|    75000.0|      6|      20,876|               3|                 1|    IB14012|       Approved|\n|    IB14018| 29|  MALE|            TEACHER|       MARRIED|          5| 45767|      12787|            3|         GOLD LOAN|   600000.0|      7|      11,000|               0|                 4|    IB14018|       Approved|\n|    IB14022| 34|  MALE|             POLICE|        SINGLE|          4| 43521|      11999|            3|        AUTOMOBILE|   200000.0|      2|      43,898|               1|                 2|    IB14022|         Denied|\n|    IB14024| 55|FEMALE|              NURSE|       MARRIED|          6| 34999|      19888|            4|        AUTOMOBILE|    47787.0|      1|      50,000|               0|                 3|    IB14024|       Approved|\n|    IB14025| 39|FEMALE|            TEACHER|       MARRIED|          6| 46619|      18675|            4|           HOUSING|  1209867.0|      8|      29,999|               6|                 8|       NULL|           NULL|\n|    IB14027| 51|  MALE|     SYSTEM MANAGER|       MARRIED|          3| 49999|      19111|            5|       RESTAURANTS|    60676.0|      8|      13,000|               2|                 5|       NULL|           NULL|\n|    IB14029| 24|FEMALE|            TEACHER|        SINGLE|          3| 45008|      17454|            4|        AUTOMOBILE|   399435.0|      9|      51,987|               4|                 7|       NULL|           NULL|\n|    IB14031| 37|FEMALE|  SOFTWARE ENGINEER|       MARRIED|          5| 55999|      23999|            5|        AUTOMOBILE|    60999.0|      2|           0|               5|                 3|       NULL|           NULL|\n|    IB14032| 24|  MALE|       DATA ANALYST|        SINGLE|          4| 60111|      28999|            6|        AUTOMOBILE|    35232.0|      5|      33,333|               1|                 2|       NULL|           NULL|\n|    IB14034| 32|  MALE|   PRODUCT ENGINEER|       MARRIED|          6|  NULL|      29000|            7|COMPUTER SOFTWARES|    80660.0|      6|       4,500|               5|                 4|       NULL|           NULL|\n|    IB14037| 54|FEMALE|            TEACHER|       MARRIED|          5| 48099|      19999|            4|       RESTAURANTS|    30999.0|      1|      12,000|               7|                 5|       NULL|           NULL|\n|    IB14039| 45|  MALE|    ACCOUNT MANAGER|       MARRIED|          7| 45777|      18452|            4|         GOLD LOAN|   987611.0|      7|      39,999|               8|                 1|       NULL|           NULL|\n|    IB14041| 59|FEMALE|ASSISTANT PROFESSOR|       MARRIED|          4| 50999|      22999|            5|  EDUCATIONAL LOAN|   599934.0|      3|       9,000|               9|                 9|       NULL|           NULL|\n|    IB14042| 25|FEMALE|             DOCTOR|        SINGLE|          4| 60111|      27111|            5|        TRAVELLING|  1290929.0|      4|      18,000|               1|                 0|       NULL|           NULL|\n+-----------+---+------+-------------------+--------------+-----------+------+-----------+-------------+------------------+-----------+-------+------------+----------------+------------------+-----------+---------------+\nonly showing top 20 rows\n\n"
     ]
    }
   ],
   "source": [
    "#outer join\n",
    "outer_joined_data = loan_df.join(loan_approval_df, loan_df.Customer_ID == loan_approval_df.Customer_ID, \"outer\")\n",
    "\n",
    "# Show the result\n",
    "outer_joined_data.show()\n"
   ]
  },
  {
   "cell_type": "code",
   "execution_count": 0,
   "metadata": {
    "application/vnd.databricks.v1+cell": {
     "cellMetadata": {
      "byteLimit": 2048000,
      "rowLimit": 10000
     },
     "inputWidgets": {},
     "nuid": "3680822f-6198-4789-8581-f84b5262e9ec",
     "showTitle": false,
     "tableResultSettingsMap": {},
     "title": ""
    }
   },
   "outputs": [
    {
     "output_type": "stream",
     "name": "stdout",
     "output_type": "stream",
     "text": [
      "+-----------------+-----------------+--------------+----------+----------+\n|Total_Loan_Amount|   Average_Income|Customer_Count|Min_Income|Max_Income|\n+-----------------+-----------------+--------------+----------+----------+\n|     3.98526449E8|68339.49145299145|           500|     28366|    930000|\n+-----------------+-----------------+--------------+----------+----------+\n\n"
     ]
    }
   ],
   "source": [
    "# Simple aggregations \n",
    "# Aggregating Total Loan Amount, Average Income, and Counting Customers\n",
    "from pyspark.sql import functions as F\n",
    "\n",
    "aggregated_data = loan_df.agg(\n",
    "    F.sum(\"Loan Amount\").alias(\"Total_Loan_Amount\"),\n",
    "    F.avg(\"Income\").alias(\"Average_Income\"),\n",
    "    F.count(\"Customer_ID\").alias(\"Customer_Count\"),\n",
    "    F.min(\"Income\").alias(\"Min_Income\"),\n",
    "    F.max(\"Income\").alias(\"Max_Income\")\n",
    ")\n",
    "\n",
    "aggregated_data.show()\n"
   ]
  },
  {
   "cell_type": "code",
   "execution_count": 0,
   "metadata": {
    "application/vnd.databricks.v1+cell": {
     "cellMetadata": {
      "byteLimit": 2048000,
      "rowLimit": 10000
     },
     "inputWidgets": {},
     "nuid": "5ac1ed41-5b75-40f0-beb7-ea93c0017ee7",
     "showTitle": false,
     "tableResultSettingsMap": {},
     "title": ""
    }
   },
   "outputs": [
    {
     "output_type": "stream",
     "name": "stdout",
     "output_type": "stream",
     "text": [
      "+--------------------+-----------------+------------------+--------------+\n|          Occupation|Total_Loan_Amount|    Average_Income|Customer_Count|\n+--------------------+-----------------+------------------+--------------+\n|      CIVIL ENGINEER|        4918838.0|60359.666666666664|             6|\n|     FIRE DEPARTMENT|      1.1461502E7|55357.916666666664|            12|\n|          ACCOUNTANT|        8565363.0| 56623.28571428572|             7|\n|        BANK MANAGER|      1.7620557E7|           92191.0|            28|\n|      SYSTEM OFFICER|        1160768.0|           56780.0|             4|\n|           NUTRITION|         456780.0|           55650.0|             1|\n|           DIETICIAN|        8137668.0| 72599.16666666667|            13|\n|               CLERK|      1.6465611E7|         76871.125|            26|\n|   SOFTWARE ENGINEER|      2.6448205E7|           61107.8|            35|\n|AGRICULTURAL ENGI...|        6138704.0|         82060.625|             8|\n|   ASSISTANT MANAGER|        4377831.0|54866.166666666664|             6|\n|             TEACHER|      4.2952054E7| 52812.73333333333|            63|\n| ASSISTANT PROFESSOR|        5197463.0|53319.333333333336|             9|\n|     SYSTEM ENGINEER|        2968530.0|60509.333333333336|             3|\n| CHARTERED APPRAISER|      1.1253975E7| 76456.72727272728|            11|\n|                NAVY|      1.4088368E7|        71190.9375|            16|\n|              POLICE|      1.2437419E7| 49049.88888888889|            18|\n|            BUSINESS|      1.5244222E7|        56682.5625|            16|\n|              FARMER|        3462320.0| 74906.85714285714|             7|\n|              DRIVER|      1.6601281E7|64450.833333333336|            18|\n+--------------------+-----------------+------------------+--------------+\nonly showing top 20 rows\n\n"
     ]
    }
   ],
   "source": [
    "# Grouping and aggregations\n",
    "# Calculating Total Loan Amount and Average Income\n",
    "grouped_data = loan_df.groupBy(\"Occupation\").agg(\n",
    "    F.sum(\"Loan Amount\").alias(\"Total_Loan_Amount\"),\n",
    "    F.avg(\"Income\").alias(\"Average_Income\"),\n",
    "    F.count(\"Customer_ID\").alias(\"Customer_Count\")\n",
    ")\n",
    "\n",
    "grouped_data.show()\n"
   ]
  },
  {
   "cell_type": "code",
   "execution_count": 0,
   "metadata": {
    "application/vnd.databricks.v1+cell": {
     "cellMetadata": {
      "byteLimit": 2048000,
      "rowLimit": 10000
     },
     "inputWidgets": {},
     "nuid": "c8dd7e6b-89a6-47c3-87e8-99566751c7ec",
     "showTitle": false,
     "tableResultSettingsMap": {},
     "title": ""
    }
   },
   "outputs": [
    {
     "output_type": "stream",
     "name": "stdout",
     "output_type": "stream",
     "text": [
      "+-----------------+-------------------+\n|Total_Loan_Amount|Average_Expenditure|\n+-----------------+-------------------+\n|     2.61067242E8| 30574.736263736264|\n+-----------------+-------------------+\n\n"
     ]
    }
   ],
   "source": [
    "# Filtering and  aggregation\n",
    "# Filtering Customers with Income > 50,000 and Calculating Total Loan Amount and Average Expenditure\n",
    "filtered_aggregated_data = loan_df.filter(loan_df.Income > 50000).agg(\n",
    "    F.sum(\"Loan Amount\").alias(\"Total_Loan_Amount\"),\n",
    "    F.avg(\"Expenditure\").alias(\"Average_Expenditure\")\n",
    ")\n",
    "\n",
    "filtered_aggregated_data.show()\n"
   ]
  }
 ],
 "metadata": {
  "application/vnd.databricks.v1+notebook": {
   "dashboards": [],
   "environmentMetadata": null,
   "language": "python",
   "notebookMetadata": {
    "pythonIndentUnit": 4
   },
   "notebookName": "Coding Challenge - 3 Aathirainathan P",
   "widgets": {}
  }
 },
 "nbformat": 4,
 "nbformat_minor": 0
}
