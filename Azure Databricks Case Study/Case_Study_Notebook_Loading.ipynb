{
 "cells": [
  {
   "cell_type": "code",
   "execution_count": 0,
   "metadata": {
    "application/vnd.databricks.v1+cell": {
     "cellMetadata": {
      "byteLimit": 2048000,
      "rowLimit": 10000
     },
     "inputWidgets": {},
     "nuid": "53b497a1-6548-42de-aaaa-2ca37ee8a18a",
     "showTitle": false,
     "tableResultSettingsMap": {},
     "title": ""
    }
   },
   "outputs": [
    {
     "output_type": "stream",
     "name": "stdout",
     "output_type": "stream",
     "text": [
      "Starting load step...\nData loaded into the table mudah_apartment_kl_selangor_transformed.\n"
     ]
    }
   ],
   "source": [
    "from pyspark.sql import SparkSession\n",
    "\n",
    "# Initialize Spark session\n",
    "spark = SparkSession.builder.appName(\"ETL_Pipeline_Load\").getOrCreate()\n",
    "\n",
    "# Paths\n",
    "transformed_file_path = \"dbfs:/user/hive/warehouse/temp/transformed_data.parquet\"\n",
    "\n",
    "# Read transformed data\n",
    "print(\"Starting load step...\")\n",
    "transformed_df = spark.read.format(\"parquet\").load(transformed_file_path)\n",
    "\n",
    "# Write back to the same table or a new table\n",
    "transformed_df.write.format(\"delta\").mode(\"overwrite\").saveAsTable(\"mudah_apartment_kl_selangor_transformed\")\n",
    "print(\"Data loaded into the table mudah_apartment_kl_selangor_transformed.\")\n"
   ]
  }
 ],
 "metadata": {
  "application/vnd.databricks.v1+notebook": {
   "dashboards": [],
   "environmentMetadata": {
    "base_environment": "",
    "client": "1"
   },
   "language": "python",
   "notebookMetadata": {
    "pythonIndentUnit": 4
   },
   "notebookName": "case_study_notebook_L",
   "widgets": {}
  },
  "language_info": {
   "name": "python"
  }
 },
 "nbformat": 4,
 "nbformat_minor": 0
}