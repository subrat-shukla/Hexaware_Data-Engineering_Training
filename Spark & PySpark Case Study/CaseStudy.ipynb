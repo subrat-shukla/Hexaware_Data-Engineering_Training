{
  "nbformat": 4,
  "nbformat_minor": 0,
  "metadata": {
    "colab": {
      "provenance": []
    },
    "kernelspec": {
      "name": "python3",
      "display_name": "Python 3"
    },
    "language_info": {
      "name": "python"
    }
  },
  "cells": [
    {
      "cell_type": "code",
      "execution_count": 1,
      "metadata": {
        "id": "AG6GlGTmOI6u"
      },
      "outputs": [],
      "source": [
        "from pyspark.sql import SparkSession\n",
        "from pyspark.sql.functions import col, count, sum, max, min"
      ]
    },
    {
      "cell_type": "code",
      "source": [
        "spark = SparkSession.builder.appName(\"Online Banking Analysis\").getOrCreate()"
      ],
      "metadata": {
        "id": "pG749x-BOoZS"
      },
      "execution_count": 2,
      "outputs": []
    },
    {
      "cell_type": "code",
      "source": [
        "# Load the CSV files\n",
        "loan_df = spark.read.csv(\"loan.csv\", header=True, inferSchema=True)\n",
        "credit_df = spark.read.csv(\"credit card.csv\", header=True, inferSchema=True)\n",
        "txn_df = spark.read.csv(\"txn.csv\", header=True, inferSchema=True)\n"
      ],
      "metadata": {
        "id": "F1svbxj8OwcA"
      },
      "execution_count": 4,
      "outputs": []
    },
    {
      "cell_type": "code",
      "source": [
        "loan_df.groupBy(\"Loan Category\").count().show()"
      ],
      "metadata": {
        "colab": {
          "base_uri": "https://localhost:8080/"
        },
        "id": "Cp6RWXvrO3u3",
        "outputId": "191615ac-f582-44c9-f99f-17a17fe8446c"
      },
      "execution_count": 5,
      "outputs": [
        {
          "output_type": "stream",
          "name": "stdout",
          "text": [
            "+------------------+-----+\n",
            "|     Loan Category|count|\n",
            "+------------------+-----+\n",
            "|           HOUSING|   67|\n",
            "|        TRAVELLING|   53|\n",
            "|       BOOK STORES|    7|\n",
            "|       AGRICULTURE|   12|\n",
            "|         GOLD LOAN|   77|\n",
            "|  EDUCATIONAL LOAN|   20|\n",
            "|        AUTOMOBILE|   60|\n",
            "|          BUSINESS|   24|\n",
            "|COMPUTER SOFTWARES|   35|\n",
            "|           DINNING|   14|\n",
            "|          SHOPPING|   35|\n",
            "|       RESTAURANTS|   41|\n",
            "|       ELECTRONICS|   14|\n",
            "|          BUILDING|    7|\n",
            "|        RESTAURANT|   20|\n",
            "|   HOME APPLIANCES|   14|\n",
            "+------------------+-----+\n",
            "\n"
          ]
        }
      ]
    },
    {
      "cell_type": "code",
      "source": [
        "loan_df.filter(col(\"Loan Amount\") > 100000).count()"
      ],
      "metadata": {
        "colab": {
          "base_uri": "https://localhost:8080/"
        },
        "id": "Tyt0TOwUPDai",
        "outputId": "1587fd6d-8bf3-40a3-804b-5c7a64cb1b43"
      },
      "execution_count": 6,
      "outputs": [
        {
          "output_type": "execute_result",
          "data": {
            "text/plain": [
              "0"
            ]
          },
          "metadata": {},
          "execution_count": 6
        }
      ]
    },
    {
      "cell_type": "code",
      "source": [
        "loan_df.filter(col(\"Income\") > 60000).count()\n"
      ],
      "metadata": {
        "colab": {
          "base_uri": "https://localhost:8080/"
        },
        "id": "rj01vBWmPDc8",
        "outputId": "786c89e0-84b2-44f0-cf0b-6f7ad92ae386"
      },
      "execution_count": 7,
      "outputs": [
        {
          "output_type": "execute_result",
          "data": {
            "text/plain": [
              "198"
            ]
          },
          "metadata": {},
          "execution_count": 7
        }
      ]
    },
    {
      "cell_type": "code",
      "source": [
        "cheques_and_income_count = loan_df.filter((col(\" Returned Cheque\") >= 2) & (col(\"Income\") < 50000)).count()\n",
        "print(f\"Number of people with 2 or more returned cheques and income less than 50,000: {cheques_and_income_count}\")\n"
      ],
      "metadata": {
        "colab": {
          "base_uri": "https://localhost:8080/"
        },
        "id": "dFphPmBcPDf9",
        "outputId": "6b6c9044-e282-4257-96cf-c495e88d55d7"
      },
      "execution_count": 9,
      "outputs": [
        {
          "output_type": "stream",
          "name": "stdout",
          "text": [
            "Number of people with 2 or more returned cheques and income less than 50,000: 137\n"
          ]
        }
      ]
    },
    {
      "cell_type": "code",
      "source": [
        "cheques_and_single_count = loan_df.filter((col(\" Returned Cheque\") >= 2) & (col(\"Marital Status\") == \"Single\")).count()\n",
        "print(f\"Number of people with 2 or more returned cheques and are single: {cheques_and_single_count}\")\n"
      ],
      "metadata": {
        "colab": {
          "base_uri": "https://localhost:8080/"
        },
        "id": "4n4jFzm_PDiY",
        "outputId": "24057d4a-44ef-49a2-c6a6-ce9e3e0fc142"
      },
      "execution_count": 10,
      "outputs": [
        {
          "output_type": "stream",
          "name": "stdout",
          "text": [
            "Number of people with 2 or more returned cheques and are single: 0\n"
          ]
        }
      ]
    },
    {
      "cell_type": "code",
      "source": [
        "high_expenditure_count = loan_df.filter(col(\"Expenditure\") > 50000).count()\n",
        "print(f\"Number of people with expenditure over 50,000 a month: {high_expenditure_count}\")\n"
      ],
      "metadata": {
        "colab": {
          "base_uri": "https://localhost:8080/"
        },
        "id": "t0KVx3KQPDk1",
        "outputId": "cd21ced4-55a4-4cc0-d2bd-d61c876bdee8"
      },
      "execution_count": 11,
      "outputs": [
        {
          "output_type": "stream",
          "name": "stdout",
          "text": [
            "Number of people with expenditure over 50,000 a month: 6\n"
          ]
        }
      ]
    },
    {
      "cell_type": "code",
      "source": [
        "credit_card_eligible = loan_df.filter((col(\"Income\") > 50000) & (col(\" Returned Cheque\") == 0)).count()\n",
        "print(f\"Number of members eligible for a credit card: {credit_card_eligible}\")\n"
      ],
      "metadata": {
        "colab": {
          "base_uri": "https://localhost:8080/"
        },
        "id": "uEm-Ohj6PDoq",
        "outputId": "d9bfaf6d-cdfb-41b0-a657-ab7d8a166541"
      },
      "execution_count": 12,
      "outputs": [
        {
          "output_type": "stream",
          "name": "stdout",
          "text": [
            "Number of members eligible for a credit card: 22\n"
          ]
        }
      ]
    },
    {
      "cell_type": "code",
      "source": [
        "max_withdrawal = txn_df.agg(max(\" WITHDRAWAL AMT \").alias(\"MaxWithdrawal\")).collect()[0][0]\n",
        "print(f\"Maximum withdrawal amount: {max_withdrawal}\")"
      ],
      "metadata": {
        "colab": {
          "base_uri": "https://localhost:8080/"
        },
        "id": "myVgw7zSPu9J",
        "outputId": "cd01e07c-f06d-47a6-e743-36f4803047f8"
      },
      "execution_count": 13,
      "outputs": [
        {
          "output_type": "stream",
          "name": "stdout",
          "text": [
            "Maximum withdrawal amount: 459447546.4\n"
          ]
        }
      ]
    },
    {
      "cell_type": "code",
      "source": [
        "min_withdrawal_per_account = txn_df.groupBy(\"Account No\").agg(min(\" WITHDRAWAL AMT \").alias(\"MinWithdrawal\"))\n",
        "min_withdrawal_per_account.show()\n"
      ],
      "metadata": {
        "colab": {
          "base_uri": "https://localhost:8080/"
        },
        "id": "8BKSEUI5P0Zu",
        "outputId": "5d0323f5-ac4d-4b8c-e06d-97ea2539af64"
      },
      "execution_count": 14,
      "outputs": [
        {
          "output_type": "stream",
          "name": "stdout",
          "text": [
            "+-------------+-------------+\n",
            "|   Account No|MinWithdrawal|\n",
            "+-------------+-------------+\n",
            "|409000438611'|          0.2|\n",
            "|     1196711'|         0.25|\n",
            "|     1196428'|         0.25|\n",
            "|409000493210'|         0.01|\n",
            "|409000611074'|        120.0|\n",
            "|409000425051'|         1.25|\n",
            "|409000405747'|         21.0|\n",
            "|409000362497'|         0.97|\n",
            "|409000493201'|          2.1|\n",
            "|409000438620'|         0.34|\n",
            "+-------------+-------------+\n",
            "\n"
          ]
        }
      ]
    },
    {
      "cell_type": "code",
      "source": [
        "max_deposit_per_account = txn_df.groupBy(\"Account No\").agg(max(\" DEPOSIT AMT \").alias(\"MaxDeposit\"))\n",
        "max_deposit_per_account.show()\n"
      ],
      "metadata": {
        "colab": {
          "base_uri": "https://localhost:8080/"
        },
        "id": "DqRhcL5bP3FY",
        "outputId": "f5f8f3e8-b9a6-4712-a021-79be67e820c7"
      },
      "execution_count": 15,
      "outputs": [
        {
          "output_type": "stream",
          "name": "stdout",
          "text": [
            "+-------------+-------------+\n",
            "|   Account No|   MaxDeposit|\n",
            "+-------------+-------------+\n",
            "|409000438611'|     1.7025E8|\n",
            "|     1196711'|        5.0E8|\n",
            "|     1196428'|2.119594422E8|\n",
            "|409000493210'|        1.5E7|\n",
            "|409000611074'|    3000000.0|\n",
            "|409000425051'|        1.5E7|\n",
            "|409000405747'|      2.021E8|\n",
            "|409000362497'|        2.0E8|\n",
            "|409000493201'|    1000000.0|\n",
            "|409000438620'|      5.448E8|\n",
            "+-------------+-------------+\n",
            "\n"
          ]
        }
      ]
    },
    {
      "cell_type": "code",
      "source": [
        "min_deposit_per_account = txn_df.groupBy(\"Account No\").agg(min(\" DEPOSIT AMT \").alias(\"MinDeposit\"))\n",
        "min_deposit_per_account.show()"
      ],
      "metadata": {
        "colab": {
          "base_uri": "https://localhost:8080/"
        },
        "id": "AAaBfFzaP3JG",
        "outputId": "55b38426-e7af-4c4a-d188-94146663a0d8"
      },
      "execution_count": 16,
      "outputs": [
        {
          "output_type": "stream",
          "name": "stdout",
          "text": [
            "+-------------+----------+\n",
            "|   Account No|MinDeposit|\n",
            "+-------------+----------+\n",
            "|409000438611'|      0.03|\n",
            "|     1196711'|      1.01|\n",
            "|     1196428'|       1.0|\n",
            "|409000493210'|      0.01|\n",
            "|409000611074'|    1320.0|\n",
            "|409000425051'|       1.0|\n",
            "|409000405747'|     500.0|\n",
            "|409000362497'|      0.03|\n",
            "|409000493201'|       0.9|\n",
            "|409000438620'|      0.07|\n",
            "+-------------+----------+\n",
            "\n"
          ]
        }
      ]
    },
    {
      "cell_type": "code",
      "source": [
        "total_balance_per_account = txn_df.groupBy(\"Account No\").agg(sum(\"BALANCE AMT\").alias(\"TotalBalance\"))\n",
        "total_balance_per_account.show()"
      ],
      "metadata": {
        "colab": {
          "base_uri": "https://localhost:8080/"
        },
        "id": "en8PG2u0P3Sp",
        "outputId": "0ca8daec-58c5-4fd4-a150-d577215b975b"
      },
      "execution_count": 17,
      "outputs": [
        {
          "output_type": "stream",
          "name": "stdout",
          "text": [
            "+-------------+--------------------+\n",
            "|   Account No|        TotalBalance|\n",
            "+-------------+--------------------+\n",
            "|409000438611'|-2.49486577068339...|\n",
            "|     1196711'|-1.60476498101275E13|\n",
            "|     1196428'| -8.1418498130721E13|\n",
            "|409000493210'|-3.27584952132095...|\n",
            "|409000611074'|       1.615533622E9|\n",
            "|409000425051'|-3.77211841164998...|\n",
            "|409000405747'|-2.43108047067000...|\n",
            "|409000362497'| -5.2860004792808E13|\n",
            "|409000493201'|1.0420831829499985E9|\n",
            "|409000438620'|-7.12291867951358...|\n",
            "+-------------+--------------------+\n",
            "\n"
          ]
        }
      ]
    },
    {
      "cell_type": "code",
      "source": [
        "transactions_per_date = txn_df.groupBy(\"VALUE DATE\").agg(count(\"*\").alias(\"TransactionCount\"))\n",
        "transactions_per_date.show()\n"
      ],
      "metadata": {
        "colab": {
          "base_uri": "https://localhost:8080/"
        },
        "id": "JaWqhdWIQEEQ",
        "outputId": "2fe1b1a9-6201-4098-a6cc-f1bb226da4dc"
      },
      "execution_count": 18,
      "outputs": [
        {
          "output_type": "stream",
          "name": "stdout",
          "text": [
            "+----------+----------------+\n",
            "|VALUE DATE|TransactionCount|\n",
            "+----------+----------------+\n",
            "| 23-Dec-16|             143|\n",
            "|  7-Feb-19|              98|\n",
            "| 21-Jul-15|              80|\n",
            "|  9-Sep-15|              91|\n",
            "| 17-Jan-15|              16|\n",
            "| 18-Nov-17|              53|\n",
            "| 21-Feb-18|              77|\n",
            "| 20-Mar-18|              71|\n",
            "| 19-Apr-18|              71|\n",
            "| 21-Jun-16|              97|\n",
            "| 17-Oct-17|             101|\n",
            "|  3-Jan-18|              70|\n",
            "|  8-Jun-18|             223|\n",
            "| 15-Dec-18|              62|\n",
            "|  8-Aug-16|              97|\n",
            "| 17-Dec-16|              74|\n",
            "|  3-Sep-15|              83|\n",
            "| 21-Jan-16|              76|\n",
            "|  4-May-18|              92|\n",
            "|  7-Sep-17|              94|\n",
            "+----------+----------------+\n",
            "only showing top 20 rows\n",
            "\n"
          ]
        }
      ]
    },
    {
      "cell_type": "code",
      "source": [
        "high_withdrawals = txn_df.filter(col(\" WITHDRAWAL AMT \") > 100000).select(\"Account No\", \" WITHDRAWAL AMT \")\n",
        "high_withdrawals.show()\n"
      ],
      "metadata": {
        "colab": {
          "base_uri": "https://localhost:8080/"
        },
        "id": "Q7KKYzxLQG4F",
        "outputId": "181932ce-26f6-4245-9b19-cc3e3b585c78"
      },
      "execution_count": 19,
      "outputs": [
        {
          "output_type": "stream",
          "name": "stdout",
          "text": [
            "+-------------+----------------+\n",
            "|   Account No| WITHDRAWAL AMT |\n",
            "+-------------+----------------+\n",
            "|409000611074'|        133900.0|\n",
            "|409000611074'|        195800.0|\n",
            "|409000611074'|        143800.0|\n",
            "|409000611074'|        331650.0|\n",
            "|409000611074'|        129000.0|\n",
            "|409000611074'|        230013.0|\n",
            "|409000611074'|        367900.0|\n",
            "|409000611074'|        108000.0|\n",
            "|409000611074'|        141000.0|\n",
            "|409000611074'|        206000.0|\n",
            "|409000611074'|        242300.0|\n",
            "|409000611074'|        113250.0|\n",
            "|409000611074'|        206900.0|\n",
            "|409000611074'|        276000.0|\n",
            "|409000611074'|        171000.0|\n",
            "|409000611074'|        189800.0|\n",
            "|409000611074'|        271323.0|\n",
            "|409000611074'|        200600.0|\n",
            "|409000611074'|        176900.0|\n",
            "|409000611074'|        150050.0|\n",
            "+-------------+----------------+\n",
            "only showing top 20 rows\n",
            "\n"
          ]
        }
      ]
    },
    {
      "cell_type": "code",
      "source": [
        "spain_users_count = credit_df.filter(col(\"Geography\") == \"Spain\").count()\n",
        "print(f\"Number of credit card users in Spain: {spain_users_count}\")\n"
      ],
      "metadata": {
        "colab": {
          "base_uri": "https://localhost:8080/"
        },
        "id": "H8-lhpyPQQQW",
        "outputId": "cdfd105b-7b33-4f87-dc66-27fa2b49dcee"
      },
      "execution_count": 21,
      "outputs": [
        {
          "output_type": "stream",
          "name": "stdout",
          "text": [
            "Number of credit card users in Spain: 2477\n"
          ]
        }
      ]
    },
    {
      "cell_type": "code",
      "source": [
        "eligible_and_active_count = credit_df.filter(\n",
        "    (col(\"CreditScore\") > 600) & (col(\"IsActiveMember\") == 1)\n",
        ").count()\n",
        "\n",
        "print(f\"Number of members who are eligible and active in the bank: {eligible_and_active_count}\")"
      ],
      "metadata": {
        "colab": {
          "base_uri": "https://localhost:8080/"
        },
        "id": "Wzxs8f6zQUM8",
        "outputId": "a2851753-4377-4718-d4a8-c10c0aaaac8b"
      },
      "execution_count": 22,
      "outputs": [
        {
          "output_type": "stream",
          "name": "stdout",
          "text": [
            "Number of members who are eligible and active in the bank: 3639\n"
          ]
        }
      ]
    }
  ]
}