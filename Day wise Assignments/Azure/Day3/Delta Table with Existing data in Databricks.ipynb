{
 "cells": [
  {
   "cell_type": "code",
   "execution_count": 0,
   "metadata": {
    "application/vnd.databricks.v1+cell": {
     "cellMetadata": {
      "byteLimit": 2048000,
      "rowLimit": 10000
     },
     "inputWidgets": {},
     "nuid": "56ab284e-ef86-4776-86e8-fe9e5c993ff2",
     "showTitle": false,
     "tableResultSettingsMap": {},
     "title": ""
    }
   },
   "outputs": [],
   "source": [
    "from pyspark.sql import SparkSession\n",
    "\n",
    "spark = SparkSession.builder.appName(\"Dlt example\").getOrCreate()\n",
    "\n",
    "# Reading source file using the Delta format and writing to the destination path in Delta format\n",
    "spark.read.format(\"delta\").load(\"dbfs:/user/hive/warehouse/export\").write.format(\"delta\").mode(\"overwrite\").save(\"/FileStore/tables/delta_train/\")\n"
   ]
  },
  {
   "cell_type": "code",
   "execution_count": 0,
   "metadata": {
    "application/vnd.databricks.v1+cell": {
     "cellMetadata": {
      "byteLimit": 2048000,
      "rowLimit": 10000
     },
     "inputWidgets": {},
     "nuid": "650dc51e-e16c-4b4e-a7ea-a81ac986e773",
     "showTitle": false,
     "tableResultSettingsMap": {},
     "title": ""
    }
   },
   "outputs": [
    {
     "output_type": "display_data",
     "data": {
      "text/html": [
       "<style scoped>\n",
       "  .table-result-container {\n",
       "    max-height: 300px;\n",
       "    overflow: auto;\n",
       "  }\n",
       "  table, th, td {\n",
       "    border: 1px solid black;\n",
       "    border-collapse: collapse;\n",
       "  }\n",
       "  th, td {\n",
       "    padding: 5px;\n",
       "  }\n",
       "  th {\n",
       "    text-align: left;\n",
       "  }\n",
       "</style><div class='table-result-container'><table class='table-result'><thead style='background-color: white'><tr><th>path</th><th>name</th><th>size</th><th>modificationTime</th></tr></thead><tbody><tr><td>dbfs:/FileStore/tables/delta_train/_delta_log/</td><td>_delta_log/</td><td>0</td><td>1733117273000</td></tr><tr><td>dbfs:/FileStore/tables/delta_train/part-00000-6ad2e66f-b2fb-476a-8963-3b51f40c3365-c000.snappy.parquet</td><td>part-00000-6ad2e66f-b2fb-476a-8963-3b51f40c3365-c000.snappy.parquet</td><td>48622</td><td>1733117276000</td></tr></tbody></table></div>"
      ]
     },
     "metadata": {
      "application/vnd.databricks.v1+output": {
       "addedWidgets": {},
       "aggData": [],
       "aggError": "",
       "aggOverflow": false,
       "aggSchema": [],
       "aggSeriesLimitReached": false,
       "aggType": "",
       "arguments": {},
       "columnCustomDisplayInfos": {},
       "data": [
        [
         "dbfs:/FileStore/tables/delta_train/_delta_log/",
         "_delta_log/",
         0,
         1733117273000
        ],
        [
         "dbfs:/FileStore/tables/delta_train/part-00000-6ad2e66f-b2fb-476a-8963-3b51f40c3365-c000.snappy.parquet",
         "part-00000-6ad2e66f-b2fb-476a-8963-3b51f40c3365-c000.snappy.parquet",
         48622,
         1733117276000
        ]
       ],
       "datasetInfos": [],
       "dbfsResultPath": null,
       "isJsonSchema": true,
       "metadata": {},
       "overflow": false,
       "plotOptions": {
        "customPlotOptions": {},
        "displayType": "table",
        "pivotAggregation": null,
        "pivotColumns": null,
        "xColumns": null,
        "yColumns": null
       },
       "removedWidgets": [],
       "schema": [
        {
         "metadata": "{}",
         "name": "path",
         "type": "\"string\""
        },
        {
         "metadata": "{}",
         "name": "name",
         "type": "\"string\""
        },
        {
         "metadata": "{}",
         "name": "size",
         "type": "\"long\""
        },
        {
         "metadata": "{}",
         "name": "modificationTime",
         "type": "\"long\""
        }
       ],
       "type": "table"
      }
     },
     "output_type": "display_data"
    }
   ],
   "source": [
    "\n",
    "#Below we are listing the data in destination path\n",
    "display(dbutils.fs.ls(\"/FileStore/tables/delta_train/\"))"
   ]
  },
  {
   "cell_type": "code",
   "execution_count": 0,
   "metadata": {
    "application/vnd.databricks.v1+cell": {
     "cellMetadata": {
      "byteLimit": 2048000,
      "rowLimit": 10000
     },
     "inputWidgets": {},
     "nuid": "bf6b3890-14c3-4a71-b682-69d6bd5ae7b0",
     "showTitle": false,
     "tableResultSettingsMap": {},
     "title": ""
    }
   },
   "outputs": [
    {
     "output_type": "execute_result",
     "data": {
      "text/plain": [
       "DataFrame[]"
      ]
     },
     "execution_count": 6,
     "metadata": {},
     "output_type": "execute_result"
    }
   ],
   "source": [
    "# Create database if it doesn't exist\n",
    "spark.sql(\"CREATE DATABASE IF NOT EXISTS delta_training\")\n",
    "\n",
    "#  DDL query to create table using Delta format\n",
    "ddl_query = \"\"\"CREATE TABLE IF NOT EXISTS delta_training.emp_file \n",
    "                   USING DELTA \n",
    "                   LOCATION '/FileStore/tables/delta_train/' \"\"\"\n",
    "\n",
    "#  Execute the query to create the table\n",
    "spark.sql(ddl_query)"
   ]
  },
  {
   "cell_type": "code",
   "execution_count": 0,
   "metadata": {
    "application/vnd.databricks.v1+cell": {
     "cellMetadata": {
      "byteLimit": 2048000,
      "rowLimit": 10000
     },
     "inputWidgets": {},
     "nuid": "b95c2835-00b6-4401-8707-300268fb3539",
     "showTitle": false,
     "tableResultSettingsMap": {},
     "title": ""
    }
   },
   "outputs": [
    {
     "output_type": "execute_result",
     "data": {
      "text/plain": [
       "[Table(name='emp_file', catalog='spark_catalog', namespace=['delta_training'], description=None, tableType='EXTERNAL', isTemporary=False)]"
      ]
     },
     "execution_count": 8,
     "metadata": {},
     "output_type": "execute_result"
    }
   ],
   "source": [
    "# Listing tables in the delta_training database\n",
    "spark.catalog.listTables(\"delta_training\")\n"
   ]
  },
  {
   "cell_type": "code",
   "execution_count": 0,
   "metadata": {
    "application/vnd.databricks.v1+cell": {
     "cellMetadata": {
      "byteLimit": 2048000,
      "rowLimit": 10000
     },
     "inputWidgets": {},
     "nuid": "f8ef8ef3-2b8c-41fd-a2a1-92fcc16f0bd5",
     "showTitle": false,
     "tableResultSettingsMap": {},
     "title": ""
    }
   },
   "outputs": [
    {
     "output_type": "stream",
     "name": "stdout",
     "output_type": "stream",
     "text": [
      "+---+----------+----------+-------------+------+-------------------+-----------+------+\n|id |firstName |middleName|lastName     |gender|birthDate          |ssn        |salary|\n+---+----------+----------+-------------+------+-------------------+-----------+------+\n|1  |Pennie    |Carry     |Hirschmann   |F     |1955-07-02 04:00:00|981-43-9345|56172 |\n|2  |An        |Amira     |Cowper       |F     |1992-02-08 05:00:00|978-97-8086|40203 |\n|3  |Quyen     |Marlen    |Dome         |F     |1970-10-11 04:00:00|957-57-8246|53417 |\n|4  |Coralie   |Antonina  |Marshal      |F     |1990-04-11 04:00:00|963-39-4885|94727 |\n|5  |Terrie    |Wava      |Bonar        |F     |1980-01-16 05:00:00|964-49-8051|79908 |\n|6  |Chassidy  |Concepcion|Bourthouloume|F     |1990-11-24 05:00:00|954-59-9172|64652 |\n|7  |Geri      |Tambra    |Mosby        |F     |1970-12-19 05:00:00|968-16-4020|38195 |\n|8  |Patria    |Nancy     |Arstall      |F     |1985-01-02 05:00:00|984-76-3770|102053|\n|9  |Terese    |Alfredia  |Tocque       |F     |1967-11-17 05:00:00|967-48-7309|91294 |\n|10 |Wava      |Lyndsey   |Jeandon      |F     |1963-12-30 05:00:00|997-82-2946|56521 |\n|11 |Sophie    |Emerita   |Hearn        |F     |1979-09-17 04:00:00|977-66-4483|90920 |\n|12 |Jodie     |Tabetha   |Laneham      |F     |1959-01-31 05:00:00|923-24-9769|90634 |\n|13 |Marietta  |Mandi     |Yansons      |F     |1974-02-19 04:00:00|900-34-8083|93162 |\n|14 |Caridad   |Maire     |Snelle       |F     |1960-09-26 04:00:00|992-11-7062|38859 |\n|15 |Yasmine   |Meg       |Edworthye    |F     |1960-01-29 05:00:00|922-12-9862|76220 |\n|16 |Chan      |Jani      |Hartas       |F     |1986-12-05 05:00:00|995-51-3115|75050 |\n|17 |Evangeline|Wanetta   |Casserley    |F     |1961-09-29 04:00:00|926-61-3526|62814 |\n|18 |Elnora    |Kecia     |Lipman       |F     |1980-02-14 05:00:00|950-23-9739|71350 |\n|19 |Adelle    |Kathyrn   |Grigoriev    |F     |1978-11-14 05:00:00|923-23-5984|60600 |\n|20 |Mica      |Zandra    |Challens     |F     |1973-11-24 05:00:00|918-66-1232|51071 |\n+---+----------+----------+-------------+------+-------------------+-----------+------+\nonly showing top 20 rows\n\n"
     ]
    }
   ],
   "source": [
    "spark.sql(\"select * from delta_training.emp_file\").show(truncate=False)"
   ]
  }
 ],
 "metadata": {
  "application/vnd.databricks.v1+notebook": {
   "dashboards": [],
   "environmentMetadata": {
    "base_environment": "",
    "client": "1"
   },
   "language": "python",
   "notebookMetadata": {
    "pythonIndentUnit": 4
   },
   "notebookName": "Delta Table with Existing data in Databricks",
   "widgets": {}
  },
  "language_info": {
   "name": "python"
  }
 },
 "nbformat": 4,
 "nbformat_minor": 0
}