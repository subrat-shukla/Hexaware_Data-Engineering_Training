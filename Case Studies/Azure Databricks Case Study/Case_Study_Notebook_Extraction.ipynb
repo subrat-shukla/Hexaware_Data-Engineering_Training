{
 "cells": [
  {
   "cell_type": "code",
   "execution_count": 0,
   "metadata": {
    "application/vnd.databricks.v1+cell": {
     "cellMetadata": {
      "byteLimit": 2048000,
      "implicitDf": true,
      "rowLimit": 10000
     },
     "inputWidgets": {},
     "nuid": "5a5bfa3d-d18f-4bdd-aaac-7aad605c9117",
     "showTitle": false,
     "tableResultSettingsMap": {},
     "title": ""
    }
   },
   "outputs": [
    {
     "output_type": "stream",
     "name": "stdout",
     "output_type": "stream",
     "text": [
      "Starting extraction step...\nData extracted and saved to temporary storage.\n"
     ]
    }
   ],
   "source": [
    "from pyspark.sql import SparkSession\n",
    "\n",
    "# Initialize Spark session\n",
    "spark = SparkSession.builder.appName(\"ETL_Pipeline_Extract\").getOrCreate()\n",
    "\n",
    "# Read data from the table\n",
    "print(\"Starting extraction step...\")\n",
    "raw_df = spark.sql(\"SELECT * FROM mudah_apartment_kl_selangor\")\n",
    "\n",
    "# Save to temporary storage\n",
    "temp_file_path = \"dbfs:/user/hive/warehouse/temp/extracted_data.parquet\"\n",
    "raw_df.write.format(\"parquet\").mode(\"overwrite\").save(temp_file_path)\n",
    "print(\"Data extracted and saved to temporary storage.\")\n"
   ]
  }
 ],
 "metadata": {
  "application/vnd.databricks.v1+notebook": {
   "dashboards": [],
   "environmentMetadata": {
    "base_environment": "",
    "client": "1"
   },
   "language": "python",
   "notebookMetadata": {
    "mostRecentlyExecutedCommandWithImplicitDF": {
     "commandId": -1,
     "dataframes": [
      "_sqldf"
     ]
    },
    "pythonIndentUnit": 4
   },
   "notebookName": "casestudy_notebook",
   "widgets": {}
  },
  "language_info": {
   "name": "python"
  }
 },
 "nbformat": 4,
 "nbformat_minor": 0
}