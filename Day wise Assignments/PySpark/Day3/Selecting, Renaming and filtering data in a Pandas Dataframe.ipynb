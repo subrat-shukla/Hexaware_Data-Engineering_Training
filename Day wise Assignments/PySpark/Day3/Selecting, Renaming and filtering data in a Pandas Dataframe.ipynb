{
 "cells": [
  {
   "cell_type": "code",
   "execution_count": 0,
   "metadata": {
    "application/vnd.databricks.v1+cell": {
     "cellMetadata": {
      "byteLimit": 2048000,
      "rowLimit": 10000
     },
     "inputWidgets": {},
     "nuid": "ed2e8a85-1d45-4426-afeb-7ddd9a311aca",
     "showTitle": false,
     "tableResultSettingsMap": {},
     "title": ""
    }
   },
   "outputs": [],
   "source": [
    "from pyspark import SparkContext\n",
    "from pyspark.sql import SparkSession\n",
    "\n",
    "sc=SparkContext.getOrCreate()\n",
    "spark=SparkSession.builder.appName('Pyspark First').getOrCreate()\n",
    "\n",
    "rdd = sc.parallelize([('C',85,76,87,91), ('B',85,76,87,91), (\"A\", 85,78,96,92), (\"A\", 92,76,89,96)])\n",
    "\n",
    "sub=['Division','English','Mathematics','Physics','Chemistry']\n",
    "marks_df=spark.createDataFrame(rdd,schema=sub)\n",
    "marks_df.createOrReplaceTempView('dataofmarks')"
   ]
  },
  {
   "cell_type": "code",
   "execution_count": 0,
   "metadata": {
    "application/vnd.databricks.v1+cell": {
     "cellMetadata": {
      "byteLimit": 2048000,
      "rowLimit": 10000
     },
     "inputWidgets": {},
     "nuid": "ae8368d7-9fd1-4a32-8ca1-39846bfc4a68",
     "showTitle": false,
     "tableResultSettingsMap": {},
     "title": ""
    }
   },
   "outputs": [
    {
     "output_type": "stream",
     "name": "stdout",
     "output_type": "stream",
     "text": [
      "+--------+-------+-----------+-------+---------+\n|Division|English|Mathematics|Physics|Chemistry|\n+--------+-------+-----------+-------+---------+\n|       C|     85|         76|     87|       91|\n|       B|     85|         76|     87|       91|\n|       A|     85|         78|     96|       92|\n|       A|     92|         76|     89|       96|\n+--------+-------+-----------+-------+---------+\n\n"
     ]
    }
   ],
   "source": [
    "spark.sql(\"SELECT * FROM dataofmarks\").show()"
   ]
  },
  {
   "cell_type": "code",
   "execution_count": 0,
   "metadata": {
    "application/vnd.databricks.v1+cell": {
     "cellMetadata": {
      "byteLimit": 2048000,
      "rowLimit": 10000
     },
     "inputWidgets": {},
     "nuid": "0a2909f7-c3fe-47b5-bf17-21e2ff2b765c",
     "showTitle": false,
     "tableResultSettingsMap": {},
     "title": ""
    }
   },
   "outputs": [
    {
     "output_type": "stream",
     "name": "stdout",
     "output_type": "stream",
     "text": [
      "+--------+-------+----+-------+---------+\n|Division|English|Math|Physics|Chemistry|\n+--------+-------+----+-------+---------+\n|       C|     85|  76|     87|       91|\n|       B|     85|  76|     87|       91|\n|       A|     85|  78|     96|       92|\n|       A|     92|  76|     89|       96|\n+--------+-------+----+-------+---------+\n\n"
     ]
    }
   ],
   "source": [
    "marks_df.withColumnRenamed(\"Mathematics\",\"Math\").show()"
   ]
  },
  {
   "cell_type": "code",
   "execution_count": 0,
   "metadata": {
    "application/vnd.databricks.v1+cell": {
     "cellMetadata": {
      "byteLimit": 2048000,
      "rowLimit": 10000
     },
     "inputWidgets": {},
     "nuid": "88156940-6090-4504-906f-949ded8bcb76",
     "showTitle": false,
     "tableResultSettingsMap": {},
     "title": ""
    }
   },
   "outputs": [
    {
     "output_type": "stream",
     "name": "stdout",
     "output_type": "stream",
     "text": [
      "+--------+-------+-----------+---+---------+\n|Division|English|Mathematics|Phy|Chemistry|\n+--------+-------+-----------+---+---------+\n|       C|     85|         76| 87|       91|\n|       B|     85|         76| 87|       91|\n|       A|     85|         78| 96|       92|\n|       A|     92|         76| 89|       96|\n+--------+-------+-----------+---+---------+\n\n"
     ]
    },
    {
     "output_type": "execute_result",
     "data": {
      "text/plain": [
       "(DataFrame[Division: string, English: bigint, Math: bigint, Physics: bigint, Chemistry: bigint],\n",
       " None)"
      ]
     },
     "execution_count": 4,
     "metadata": {},
     "output_type": "execute_result"
    }
   ],
   "source": [
    "marks_df.withColumnRenamed(\"Mathematics\",\"Math\"),marks_df.withColumnRenamed(\"Physics\",\"Phy\").show()"
   ]
  },
  {
   "cell_type": "code",
   "execution_count": 0,
   "metadata": {
    "application/vnd.databricks.v1+cell": {
     "cellMetadata": {
      "byteLimit": 2048000,
      "rowLimit": 10000
     },
     "inputWidgets": {},
     "nuid": "37b7f93d-cd0f-43c4-b8be-f163d272d98c",
     "showTitle": false,
     "tableResultSettingsMap": {},
     "title": ""
    }
   },
   "outputs": [
    {
     "output_type": "stream",
     "name": "stdout",
     "output_type": "stream",
     "text": [
      "+--------+---+----+----+\n|Division|Phy|Math|Chem|\n+--------+---+----+----+\n|       C| 87|  76|  91|\n|       B| 87|  76|  91|\n|       A| 96|  78|  92|\n|       A| 89|  76|  96|\n+--------+---+----+----+\n\n"
     ]
    }
   ],
   "source": [
    "data=marks_df.selectExpr(\"Division\",\"Physics as Phy\",\"Mathematics as Math\",\"Chemistry as Chem\")\n",
    "data.show()"
   ]
  },
  {
   "cell_type": "code",
   "execution_count": 0,
   "metadata": {
    "application/vnd.databricks.v1+cell": {
     "cellMetadata": {
      "byteLimit": 2048000,
      "rowLimit": 10000
     },
     "inputWidgets": {},
     "nuid": "1d85dc26-ebca-436b-b4fe-e25c868f8f91",
     "showTitle": false,
     "tableResultSettingsMap": {},
     "title": ""
    }
   },
   "outputs": [
    {
     "output_type": "stream",
     "name": "stdout",
     "output_type": "stream",
     "text": [
      "+--------+----+---+----+\n|Division|Math|Phy|Chem|\n+--------+----+---+----+\n|       C|  76| 87|  91|\n|       B|  76| 87|  91|\n|       A|  78| 96|  92|\n|       A|  76| 89|  96|\n+--------+----+---+----+\n\n"
     ]
    }
   ],
   "source": [
    "from pyspark.sql.functions import col\n",
    "\n",
    "data=marks_df.select(col(\"Division\"),col(\"Mathematics\").alias(\"Math\"),col(\"Physics\").alias(\"Phy\"),col(\"Chemistry\").alias(\"Chem\"))\n",
    "data.show()"
   ]
  },
  {
   "cell_type": "code",
   "execution_count": 0,
   "metadata": {
    "application/vnd.databricks.v1+cell": {
     "cellMetadata": {},
     "inputWidgets": {},
     "nuid": "4aa1db01-f5d3-4083-b71b-3faa63e6cdce",
     "showTitle": false,
     "tableResultSettingsMap": {},
     "title": ""
    }
   },
   "outputs": [],
   "source": []
  }
 ],
 "metadata": {
  "application/vnd.databricks.v1+notebook": {
   "dashboards": [],
   "environmentMetadata": null,
   "language": "python",
   "notebookMetadata": {
    "pythonIndentUnit": 2
   },
   "notebookName": "Selecting, Renaming and filtering data in a Pandas Dataframe",
   "widgets": {}
  }
 },
 "nbformat": 4,
 "nbformat_minor": 0
}
