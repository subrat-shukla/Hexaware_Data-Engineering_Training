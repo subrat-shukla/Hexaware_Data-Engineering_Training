{
 "cells": [
  {
   "cell_type": "code",
   "execution_count": 0,
   "metadata": {
    "application/vnd.databricks.v1+cell": {
     "cellMetadata": {
      "byteLimit": 2048000,
      "rowLimit": 10000
     },
     "inputWidgets": {},
     "nuid": "1d04ce4d-9d44-4eba-ba99-0643d86419d3",
     "showTitle": false,
     "tableResultSettingsMap": {},
     "title": ""
    }
   },
   "outputs": [
    {
     "output_type": "stream",
     "name": "stdout",
     "output_type": "stream",
     "text": [
      "Starting transformation step...\nSchema of the dataset:\nroot\n |-- ads_id: long (nullable = true)\n |-- prop_name: string (nullable = true)\n |-- completion_year: double (nullable = true)\n |-- monthly_rent: string (nullable = true)\n |-- location: string (nullable = true)\n |-- property_type: string (nullable = true)\n |-- rooms: string (nullable = true)\n |-- parking: double (nullable = true)\n |-- bathroom: double (nullable = true)\n |-- size: string (nullable = true)\n |-- furnished: string (nullable = true)\n |-- facilities: string (nullable = true)\n |-- additional_facilities: string (nullable = true)\n |-- region: string (nullable = true)\n\nData transformed and saved to temporary storage.\n"
     ]
    }
   ],
   "source": [
    "from pyspark.sql import SparkSession\n",
    "from pyspark.sql.functions import col\n",
    "\n",
    "# Initialize Spark session\n",
    "spark = SparkSession.builder.appName(\"ETL_Pipeline_Transform\").getOrCreate()\n",
    "\n",
    "# Paths\n",
    "temp_file_path = \"dbfs:/user/hive/warehouse/temp/extracted_data.parquet\"\n",
    "transformed_file_path = \"dbfs:/user/hive/warehouse/temp/transformed_data.parquet\"\n",
    "\n",
    "# Load intermediate data\n",
    "print(\"Starting transformation step...\")\n",
    "raw_df = spark.read.format(\"parquet\").load(temp_file_path)\n",
    "\n",
    "# Inspect schema\n",
    "print(\"Schema of the dataset:\")\n",
    "raw_df.printSchema()\n",
    "\n",
    "# Perform transformations\n",
    "transformed_df = (\n",
    "    raw_df\n",
    "    .select(\"rooms\", \"region\", \"size\") \n",
    "    .filter(col(\"rooms\").isNotNull()) \n",
    "    .withColumnRenamed(\"rooms\", \"new_rooms\")\n",
    ")\n",
    "\n",
    "# Save transformed data\n",
    "transformed_df.write.format(\"parquet\").mode(\"overwrite\").save(transformed_file_path)\n",
    "print(\"Data transformed and saved to temporary storage.\")\n"
   ]
  }
 ],
 "metadata": {
  "application/vnd.databricks.v1+notebook": {
   "dashboards": [],
   "environmentMetadata": {
    "base_environment": "",
    "client": "1"
   },
   "language": "python",
   "notebookMetadata": {
    "pythonIndentUnit": 4
   },
   "notebookName": "case_study_notebook_t",
   "widgets": {}
  },
  "language_info": {
   "name": "python"
  }
 },
 "nbformat": 4,
 "nbformat_minor": 0
}