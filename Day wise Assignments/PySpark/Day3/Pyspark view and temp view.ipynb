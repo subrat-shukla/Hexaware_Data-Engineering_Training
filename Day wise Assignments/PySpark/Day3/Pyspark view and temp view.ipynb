{
 "cells": [
  {
   "cell_type": "code",
   "execution_count": 0,
   "metadata": {
    "application/vnd.databricks.v1+cell": {
     "cellMetadata": {
      "byteLimit": 2048000,
      "rowLimit": 10000
     },
     "inputWidgets": {},
     "nuid": "23ceee7f-a977-4cc1-9378-8b7c74f8881c",
     "showTitle": false,
     "tableResultSettingsMap": {},
     "title": ""
    }
   },
   "outputs": [],
   "source": [
    "from pyspark import SparkContext\n",
    "from pyspark.sql import SparkSession\n",
    "\n",
    "sc=SparkContext.getOrCreate()\n",
    "spark=SparkSession.builder.appName('Pyspark First').getOrCreate()\n",
    "\n",
    "rdd = sc.parallelize([('C',85,76,87,91), ('B',85,76,87,91), (\"A\", 85,78,96,92), (\"A\", 92,76,89,96)])\n",
    "\n",
    "sub=['Division','English','Mathematics','Physics','Chemistry']\n",
    "marks_df=spark.createDataFrame(rdd,schema=sub)\n",
    "marks_df.createOrReplaceTempView('dataofmarks')"
   ]
  },
  {
   "cell_type": "code",
   "execution_count": 0,
   "metadata": {
    "application/vnd.databricks.v1+cell": {
     "cellMetadata": {
      "byteLimit": 2048000,
      "rowLimit": 10000
     },
     "inputWidgets": {},
     "nuid": "b70a2d95-a31c-4128-a885-f2721f5bcf97",
     "showTitle": false,
     "tableResultSettingsMap": {},
     "title": ""
    }
   },
   "outputs": [
    {
     "output_type": "stream",
     "name": "stdout",
     "output_type": "stream",
     "text": [
      "+--------+-------+-----------+-------+---------+\n|Division|English|Mathematics|Physics|Chemistry|\n+--------+-------+-----------+-------+---------+\n|       C|     85|         76|     87|       91|\n|       B|     85|         76|     87|       91|\n|       A|     85|         78|     96|       92|\n|       A|     92|         76|     89|       96|\n+--------+-------+-----------+-------+---------+\n\n"
     ]
    }
   ],
   "source": [
    "spark.sql(\"SELECT * FROM dataofmarks\").show()"
   ]
  }
 ],
 "metadata": {
  "application/vnd.databricks.v1+notebook": {
   "dashboards": [],
   "environmentMetadata": null,
   "language": "python",
   "notebookMetadata": {
    "pythonIndentUnit": 2
   },
   "notebookName": "Pyspark view and temp view",
   "widgets": {}
  }
 },
 "nbformat": 4,
 "nbformat_minor": 0
}
