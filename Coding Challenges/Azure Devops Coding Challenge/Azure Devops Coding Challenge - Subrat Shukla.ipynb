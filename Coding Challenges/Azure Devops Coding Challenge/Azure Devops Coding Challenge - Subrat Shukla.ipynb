{
 "cells": [
  {
   "cell_type": "code",
   "execution_count": 0,
   "metadata": {
    "application/vnd.databricks.v1+cell": {
     "cellMetadata": {
      "byteLimit": 2048000,
      "rowLimit": 10000
     },
     "inputWidgets": {},
     "nuid": "c6089aa4-0e01-47ea-b00a-b564ad1edd66",
     "showTitle": false,
     "tableResultSettingsMap": {},
     "title": ""
    }
   },
   "outputs": [
    {
     "output_type": "execute_result",
     "data": {
      "text/plain": [
       "True"
      ]
     },
     "execution_count": 1,
     "metadata": {},
     "output_type": "execute_result"
    }
   ],
   "source": [
    "%python\n",
    "# Fetching the csv file from the blob storage\n",
    "storage_account_name = \"codingchallengedlacc\"\n",
    "container_name = \"my-container\"\n",
    "storage_account_key = \"hMW9uKwa01lepiUgz0tGQd9P9UKbeVq29mCY5wCz2GIPpsMELvdjGaAcJMmDjsiX8RHCznioSigW+AStcpQIgQ==\"\n",
    "\n",
    "# Unmount the directory if it is already mounted\n",
    "if any(mount.mountPoint == \"/mnt/superstore\" for mount in dbutils.fs.mounts()):\n",
    "    dbutils.fs.unmount(\"/mnt/superstore\")\n",
    "\n",
    "# Mount dl Storage\n",
    "dbutils.fs.mount(\n",
    "    source=f\"wasbs://{container_name}@{storage_account_name}.blob.core.windows.net\",\n",
    "    mount_point=\"/mnt/superstore\",\n",
    "    extra_configs={\n",
    "        f\"fs.azure.account.key.{storage_account_name}.blob.core.windows.net\": storage_account_key\n",
    "    }\n",
    ")"
   ]
  },
  {
   "cell_type": "code",
   "execution_count": 0,
   "metadata": {
    "application/vnd.databricks.v1+cell": {
     "cellMetadata": {
      "byteLimit": 2048000,
      "rowLimit": 10000
     },
     "inputWidgets": {},
     "nuid": "dc97c661-d191-4eff-b656-0158b4feea1c",
     "showTitle": false,
     "tableResultSettingsMap": {},
     "title": ""
    }
   },
   "outputs": [
    {
     "output_type": "display_data",
     "data": {
      "text/html": [
       "<style scoped>\n",
       "  .table-result-container {\n",
       "    max-height: 300px;\n",
       "    overflow: auto;\n",
       "  }\n",
       "  table, th, td {\n",
       "    border: 1px solid black;\n",
       "    border-collapse: collapse;\n",
       "  }\n",
       "  th, td {\n",
       "    padding: 5px;\n",
       "  }\n",
       "  th {\n",
       "    text-align: left;\n",
       "  }\n",
       "</style><div class='table-result-container'><table class='table-result'><thead style='background-color: white'><tr><th>path</th><th>name</th><th>size</th><th>modificationTime</th></tr></thead><tbody><tr><td>dbfs:/mnt/superstore/Global_Superstore2.csv</td><td>Global_Superstore2.csv</td><td>12089916</td><td>1734606845000</td></tr></tbody></table></div>"
      ]
     },
     "metadata": {
      "application/vnd.databricks.v1+output": {
       "addedWidgets": {},
       "aggData": [],
       "aggError": "",
       "aggOverflow": false,
       "aggSchema": [],
       "aggSeriesLimitReached": false,
       "aggType": "",
       "arguments": {},
       "columnCustomDisplayInfos": {},
       "data": [
        [
         "dbfs:/mnt/superstore/Global_Superstore2.csv",
         "Global_Superstore2.csv",
         12089916,
         1734606845000
        ]
       ],
       "datasetInfos": [],
       "dbfsResultPath": null,
       "isJsonSchema": true,
       "metadata": {},
       "overflow": false,
       "plotOptions": {
        "customPlotOptions": {},
        "displayType": "table",
        "pivotAggregation": null,
        "pivotColumns": null,
        "xColumns": null,
        "yColumns": null
       },
       "removedWidgets": [],
       "schema": [
        {
         "metadata": "{}",
         "name": "path",
         "type": "\"string\""
        },
        {
         "metadata": "{}",
         "name": "name",
         "type": "\"string\""
        },
        {
         "metadata": "{}",
         "name": "size",
         "type": "\"long\""
        },
        {
         "metadata": "{}",
         "name": "modificationTime",
         "type": "\"long\""
        }
       ],
       "type": "table"
      }
     },
     "output_type": "display_data"
    }
   ],
   "source": [
    "#verifying the mount\n",
    "display(dbutils.fs.ls(\"/mnt/superstore\"))"
   ]
  },
  {
   "cell_type": "code",
   "execution_count": 0,
   "metadata": {
    "application/vnd.databricks.v1+cell": {
     "cellMetadata": {
      "byteLimit": 2048000,
      "rowLimit": 10000
     },
     "inputWidgets": {},
     "nuid": "da9c7682-6868-4f14-9885-0acfab6f1313",
     "showTitle": false,
     "tableResultSettingsMap": {},
     "title": ""
    }
   },
   "outputs": [
    {
     "output_type": "stream",
     "name": "stdout",
     "output_type": "stream",
     "text": [
      "+------+---------------+----------+----------+------------+-----------+----------------+-----------+-------------+---------------+-------------+-----------+------+-------+----------------+----------+------------+--------------------+--------+--------+--------+--------+-------------+--------------+\n|Row ID|       Order ID|Order Date| Ship Date|   Ship Mode|Customer ID|   Customer Name|    Segment|         City|          State|      Country|Postal Code|Market| Region|      Product ID|  Category|Sub-Category|        Product Name|   Sales|Quantity|Discount|  Profit|Shipping Cost|Order Priority|\n+------+---------------+----------+----------+------------+-----------+----------------+-----------+-------------+---------------+-------------+-----------+------+-------+----------------+----------+------------+--------------------+--------+--------+--------+--------+-------------+--------------+\n| 32298| CA-2012-124891|2012-07-31|2012-07-31|    Same Day|   RH-19495|     Rick Hansen|   Consumer|New York City|       New York|United States|      10024|    US|   East| TEC-AC-10003033|Technology| Accessories|Plantronics CS510...| 2309.65|       7|       0|762.1845|       933.57|      Critical|\n| 26341|  IN-2013-77878|2013-02-05|2013-02-07|Second Class|   JR-16210|   Justin Ritter|  Corporate|   Wollongong|New South Wales|    Australia|       NULL|  APAC|Oceania| FUR-CH-10003950| Furniture|      Chairs|Novimex Executive...|3709.395|       9|     0.1|-288.765|       923.63|      Critical|\n| 25330|  IN-2013-71249|2013-10-17|2013-10-18| First Class|   CR-12730|    Craig Reiter|   Consumer|     Brisbane|     Queensland|    Australia|       NULL|  APAC|Oceania| TEC-PH-10004664|Technology|      Phones|Nokia Smart Phone...|5175.171|       9|     0.1| 919.971|       915.49|        Medium|\n| 13524|ES-2013-1579342|2013-01-28|2013-01-30| First Class|   KM-16375|Katherine Murray|Home Office|       Berlin|         Berlin|      Germany|       NULL|    EU|Central| TEC-PH-10004583|Technology|      Phones|Motorola Smart Ph...| 2892.51|       5|     0.1|  -96.54|       910.16|        Medium|\n| 47221|   SG-2013-4320|2013-11-05|2013-11-06|    Same Day|    RH-9495|     Rick Hansen|   Consumer|        Dakar|          Dakar|      Senegal|       NULL|Africa| Africa|TEC-SHA-10000501|Technology|     Copiers|Sharp Wireless Fa...| 2832.96|       8|       0|  311.52|       903.04|      Critical|\n+------+---------------+----------+----------+------------+-----------+----------------+-----------+-------------+---------------+-------------+-----------+------+-------+----------------+----------+------------+--------------------+--------+--------+--------+--------+-------------+--------------+\nonly showing top 5 rows\n\n"
     ]
    }
   ],
   "source": [
    "from pyspark.sql import SparkSession\n",
    "spark = SparkSession.builder.appName(\"SuperstoreETL\").getOrCreate()\n",
    "\n",
    "# Load the dataset\n",
    "file_path = \"/mnt/superstore/Global_Superstore2.csv\"\n",
    "df = spark.read.csv(file_path, header=True, inferSchema=True)\n",
    "df.show(5)\n"
   ]
  },
  {
   "cell_type": "code",
   "execution_count": 0,
   "metadata": {
    "application/vnd.databricks.v1+cell": {
     "cellMetadata": {
      "byteLimit": 2048000,
      "rowLimit": 10000
     },
     "inputWidgets": {},
     "nuid": "8aa19fd6-2415-4d06-80f7-3e13c98ca458",
     "showTitle": false,
     "tableResultSettingsMap": {},
     "title": ""
    }
   },
   "outputs": [
    {
     "output_type": "stream",
     "name": "stdout",
     "output_type": "stream",
     "text": [
      "+------+---------------+----------+----------+------------+-----------+----------------+-----------+-------------+---------------+-------------+-----------+------+-------+----------------+----------+------------+--------------------+--------+--------+--------+--------+-------------+--------------+\n|Row ID|       Order ID|Order Date| Ship Date|   Ship Mode|Customer ID|   Customer Name|    Segment|         City|          State|      Country|Postal Code|Market| Region|      Product ID|  Category|Sub-Category|        Product Name|   Sales|Quantity|Discount|  Profit|Shipping Cost|Order Priority|\n+------+---------------+----------+----------+------------+-----------+----------------+-----------+-------------+---------------+-------------+-----------+------+-------+----------------+----------+------------+--------------------+--------+--------+--------+--------+-------------+--------------+\n| 32298| CA-2012-124891|2012-07-31|2012-07-31|    Same Day|   RH-19495|     Rick Hansen|   Consumer|New York City|       New York|United States|      10024|    US|   East| TEC-AC-10003033|Technology| Accessories|Plantronics CS510...| 2309.65|       7|       0|762.1845|       933.57|      Critical|\n| 26341|  IN-2013-77878|2013-02-05|2013-02-07|Second Class|   JR-16210|   Justin Ritter|  Corporate|   Wollongong|New South Wales|    Australia|       NULL|  APAC|Oceania| FUR-CH-10003950| Furniture|      Chairs|Novimex Executive...|3709.395|       9|     0.1|-288.765|       923.63|      Critical|\n| 25330|  IN-2013-71249|2013-10-17|2013-10-18| First Class|   CR-12730|    Craig Reiter|   Consumer|     Brisbane|     Queensland|    Australia|       NULL|  APAC|Oceania| TEC-PH-10004664|Technology|      Phones|Nokia Smart Phone...|5175.171|       9|     0.1| 919.971|       915.49|        Medium|\n| 13524|ES-2013-1579342|2013-01-28|2013-01-30| First Class|   KM-16375|Katherine Murray|Home Office|       Berlin|         Berlin|      Germany|       NULL|    EU|Central| TEC-PH-10004583|Technology|      Phones|Motorola Smart Ph...| 2892.51|       5|     0.1|  -96.54|       910.16|        Medium|\n| 47221|   SG-2013-4320|2013-11-05|2013-11-06|    Same Day|    RH-9495|     Rick Hansen|   Consumer|        Dakar|          Dakar|      Senegal|       NULL|Africa| Africa|TEC-SHA-10000501|Technology|     Copiers|Sharp Wireless Fa...| 2832.96|       8|       0|  311.52|       903.04|      Critical|\n+------+---------------+----------+----------+------------+-----------+----------------+-----------+-------------+---------------+-------------+-----------+------+-------+----------------+----------+------------+--------------------+--------+--------+--------+--------+-------------+--------------+\nonly showing top 5 rows\n\n"
     ]
    }
   ],
   "source": [
    "#Add Total Cost Column\n",
    "from pyspark.sql.functions import col\n",
    "\n",
    "df_transformed = df.withColumn(\"TotalCost\", col(\"Sales\") - col(\"Profit\"))\n",
    "df.show(5)"
   ]
  },
  {
   "cell_type": "code",
   "execution_count": 0,
   "metadata": {
    "application/vnd.databricks.v1+cell": {
     "cellMetadata": {
      "byteLimit": 2048000,
      "rowLimit": 10000
     },
     "inputWidgets": {},
     "nuid": "a4270e16-2eae-44ed-8ec2-57d001220f0d",
     "showTitle": false,
     "tableResultSettingsMap": {},
     "title": ""
    }
   },
   "outputs": [
    {
     "output_type": "stream",
     "name": "stdout",
     "output_type": "stream",
     "text": [
      "+------+---------------+----------+----------+------------+-----------+----------------+-----------+-------------+---------------+-------------+-----------+------+-------+----------------+----------+------------+--------------------+--------+--------+--------+--------+-------------+--------------+------------------+\n|Row ID|       Order ID|Order Date| Ship Date|   Ship Mode|Customer ID|   Customer Name|    Segment|         City|          State|      Country|Postal Code|Market| Region|      Product ID|  Category|Sub-Category|        Product Name|   Sales|Quantity|Discount|  Profit|Shipping Cost|Order Priority|         TotalCost|\n+------+---------------+----------+----------+------------+-----------+----------------+-----------+-------------+---------------+-------------+-----------+------+-------+----------------+----------+------------+--------------------+--------+--------+--------+--------+-------------+--------------+------------------+\n| 32298| CA-2012-124891|2012-07-31|2012-07-31|    Same Day|   RH-19495|     Rick Hansen|   Consumer|New York City|       New York|United States|      10024|    US|   East| TEC-AC-10003033|Technology| Accessories|Plantronics CS510...| 2309.65|       7|       0|762.1845|       933.57|      Critical|1547.4655000000002|\n| 26341|  IN-2013-77878|2013-02-05|2013-02-07|Second Class|   JR-16210|   Justin Ritter|  Corporate|   Wollongong|New South Wales|    Australia|       NULL|  APAC|Oceania| FUR-CH-10003950| Furniture|      Chairs|Novimex Executive...|3709.395|       9|     0.1|-288.765|       923.63|      Critical|           3998.16|\n| 25330|  IN-2013-71249|2013-10-17|2013-10-18| First Class|   CR-12730|    Craig Reiter|   Consumer|     Brisbane|     Queensland|    Australia|       NULL|  APAC|Oceania| TEC-PH-10004664|Technology|      Phones|Nokia Smart Phone...|5175.171|       9|     0.1| 919.971|       915.49|        Medium| 4255.200000000001|\n| 13524|ES-2013-1579342|2013-01-28|2013-01-30| First Class|   KM-16375|Katherine Murray|Home Office|       Berlin|         Berlin|      Germany|       NULL|    EU|Central| TEC-PH-10004583|Technology|      Phones|Motorola Smart Ph...| 2892.51|       5|     0.1|  -96.54|       910.16|        Medium|           2989.05|\n| 47221|   SG-2013-4320|2013-11-05|2013-11-06|    Same Day|    RH-9495|     Rick Hansen|   Consumer|        Dakar|          Dakar|      Senegal|       NULL|Africa| Africa|TEC-SHA-10000501|Technology|     Copiers|Sharp Wireless Fa...| 2832.96|       8|       0|  311.52|       903.04|      Critical|           2521.44|\n+------+---------------+----------+----------+------------+-----------+----------------+-----------+-------------+---------------+-------------+-----------+------+-------+----------------+----------+------------+--------------------+--------+--------+--------+--------+-------------+--------------+------------------+\nonly showing top 5 rows\n\n"
     ]
    }
   ],
   "source": [
    "#Convert Sales and Profit to Float\n",
    "\n",
    "df_transformed = df_transformed.withColumn(\"Sales\", col(\"Sales\").cast(\"float\"))\n",
    "df_transformed = df_transformed.withColumn(\"Profit\", col(\"Profit\").cast(\"float\"))\n",
    "\n",
    "df_transformed.show(5)"
   ]
  },
  {
   "cell_type": "code",
   "execution_count": 0,
   "metadata": {
    "application/vnd.databricks.v1+cell": {
     "cellMetadata": {
      "byteLimit": 2048000,
      "rowLimit": 10000
     },
     "inputWidgets": {},
     "nuid": "d6ed32ce-cb3c-40d1-baf7-0f2b01e98e01",
     "showTitle": false,
     "tableResultSettingsMap": {},
     "title": ""
    }
   },
   "outputs": [
    {
     "output_type": "stream",
     "name": "stdout",
     "output_type": "stream",
     "text": [
      "+------+--------------+----------+----------+------------+-----------+-------------+---------+-------------+---------------+-------------+-----------+------+-------+----------------+----------+------------+--------------------+--------+--------+--------+--------+-------------+--------------+------------------+\n|Row ID|      Order ID|Order Date| Ship Date|   Ship Mode|Customer ID|Customer Name|  Segment|         City|          State|      Country|Postal Code|Market| Region|      Product ID|  Category|Sub-Category|        Product Name|   Sales|Quantity|Discount|  Profit|Shipping Cost|Order Priority|         TotalCost|\n+------+--------------+----------+----------+------------+-----------+-------------+---------+-------------+---------------+-------------+-----------+------+-------+----------------+----------+------------+--------------------+--------+--------+--------+--------+-------------+--------------+------------------+\n| 32298|CA-2012-124891|2012-07-31|2012-07-31|    Same Day|   RH-19495|  Rick Hansen| Consumer|New York City|       New York|United States|      10024|    US|   East| TEC-AC-10003033|Technology| Accessories|Plantronics CS510...| 2309.65|       7|       0|762.1845|       933.57|      Critical|1547.4655000000002|\n| 25330| IN-2013-71249|2013-10-17|2013-10-18| First Class|   CR-12730| Craig Reiter| Consumer|     Brisbane|     Queensland|    Australia|       NULL|  APAC|Oceania| TEC-PH-10004664|Technology|      Phones|Nokia Smart Phone...|5175.171|       9|     0.1| 919.971|       915.49|        Medium| 4255.200000000001|\n| 47221|  SG-2013-4320|2013-11-05|2013-11-06|    Same Day|    RH-9495|  Rick Hansen| Consumer|        Dakar|          Dakar|      Senegal|       NULL|Africa| Africa|TEC-SHA-10000501|Technology|     Copiers|Sharp Wireless Fa...| 2832.96|       8|       0|  311.52|       903.04|      Critical|           2521.44|\n| 22732| IN-2013-42360|2013-06-28|2013-07-01|Second Class|   JM-15655|  Jim Mitchum|Corporate|       Sydney|New South Wales|    Australia|       NULL|  APAC|Oceania| TEC-PH-10000030|Technology|      Phones|Samsung Smart Pho...|2862.675|       5|     0.1| 763.275|       897.35|      Critical|            2099.4|\n| 30570| IN-2011-81826|2011-11-07|2011-11-09| First Class|   TS-21340|Toby Swindell| Consumer|      Porirua|     Wellington|  New Zealand|       NULL|  APAC|Oceania| FUR-CH-10004050| Furniture|      Chairs|Novimex Executive...| 1822.08|       4|       0|  564.84|       894.77|      Critical|1257.2399999999998|\n+------+--------------+----------+----------+------------+-----------+-------------+---------+-------------+---------------+-------------+-----------+------+-------+----------------+----------+------------+--------------------+--------+--------+--------+--------+-------------+--------------+------------------+\nonly showing top 5 rows\n\n"
     ]
    }
   ],
   "source": [
    "#Filter Rows with Zero or Negative Profit\n",
    "\n",
    "df_transformed = df_transformed.filter(col(\"Profit\") > 0)\n",
    "df_transformed.show(5)"
   ]
  },
  {
   "cell_type": "code",
   "execution_count": 0,
   "metadata": {
    "application/vnd.databricks.v1+cell": {
     "cellMetadata": {
      "byteLimit": 2048000,
      "rowLimit": 10000
     },
     "inputWidgets": {},
     "nuid": "746fdd25-6505-4dee-ba88-968a17e41ec1",
     "showTitle": false,
     "tableResultSettingsMap": {},
     "title": ""
    }
   },
   "outputs": [
    {
     "output_type": "stream",
     "name": "stdout",
     "output_type": "stream",
     "text": [
      "+----------+------+------------------+------------------+-------------+-----------------+\n|  Category|Region|        TotalSales|       TotalProfit|TotalQuantity|    TotalDiscount|\n+----------+------+------------------+------------------+-------------+-----------------+\n| Furniture|Canada|10595.279964447021|           2613.24|           78|              0.0|\n|Technology|  EMEA|  300854.583026886|17494.443000000036|         2259|189.1000056862831|\n| Furniture|  East| 205540.3473367691|         2501.8162|         2151| 90.6000018119812|\n|Technology|Africa| 322367.0430994034|  44129.4930000001|         2031|143.1999975964427|\n|Technology|  East| 264872.0816922188| 47439.55759999996|         1927|76.30000080168247|\n+----------+------+------------------+------------------+-------------+-----------------+\nonly showing top 5 rows\n\n"
     ]
    }
   ],
   "source": [
    "from pyspark.sql.functions import col, sum\n",
    "#Group by Category and Region and perform aggregation\n",
    "\n",
    "# Step 1: Clean the data by filtering out rows with non-numeric values in Sales, Quantity, or Discount\n",
    "df_clean = df.filter(\n",
    "    (col(\"Sales\").rlike(\"^[0-9]*\\.?[0-9]+$\")) &  # Allow decimal numbers in Sales\n",
    "    (col(\"Quantity\").rlike(\"^[0-9]+$\")) &  # Allow only integers in Quantity\n",
    "    (col(\"Discount\").rlike(\"^[0-9]*\\.?[0-9]+$\"))  # Allow decimal numbers in Discount\n",
    ")\n",
    "\n",
    "# Step 2: Cast the cleaned columns to appropriate numeric types\n",
    "df_clean = df_clean.withColumn(\"Sales\", col(\"Sales\").cast(\"float\")) \\\n",
    "                   .withColumn(\"Quantity\", col(\"Quantity\").cast(\"int\")) \\\n",
    "                   .withColumn(\"Discount\", col(\"Discount\").cast(\"float\"))\n",
    "\n",
    "# Step 3: Drop rows with any null values in the numeric columns (after casting)\n",
    "df_clean = df_clean.dropna(subset=[\"Sales\", \"Quantity\", \"Discount\", \"Profit\"])\n",
    "\n",
    "# Step 4: Group by Category and Region and perform aggregation\n",
    "df_transformed = df_clean.groupBy(\"Category\", \"Region\") \\\n",
    "    .agg(\n",
    "        sum(\"Sales\").alias(\"TotalSales\"),\n",
    "        sum(\"Profit\").alias(\"TotalProfit\"),\n",
    "        sum(\"Quantity\").alias(\"TotalQuantity\"),\n",
    "        sum(\"Discount\").alias(\"TotalDiscount\")\n",
    "    )\n",
    "\n",
    "# Step 5: Show the transformed data\n",
    "df_transformed.show(5)\n"
   ]
  },
  {
   "cell_type": "code",
   "execution_count": 0,
   "metadata": {
    "application/vnd.databricks.v1+cell": {
     "cellMetadata": {
      "byteLimit": 2048000,
      "rowLimit": 10000
     },
     "inputWidgets": {},
     "nuid": "1b1cc1ba-814a-4e32-bfce-2f0879783a27",
     "showTitle": false,
     "tableResultSettingsMap": {},
     "title": ""
    }
   },
   "outputs": [
    {
     "output_type": "stream",
     "name": "stdout",
     "output_type": "stream",
     "text": [
      "+----------+------+------------------+------------------+-------------+-----------------+------------------+\n|  Category|Region|        TotalSales|       TotalProfit|TotalQuantity|    TotalDiscount|      ProfitMargin|\n+----------+------+------------------+------------------+-------------+-----------------+------------------+\n| Furniture|Canada|10595.279964447021|           2613.24|           78|              0.0|24.664190174953884|\n|Technology|  EMEA|  300854.583026886|17494.443000000036|         2259|189.1000056862831| 5.814916569988444|\n| Furniture|  East| 205540.3473367691|         2501.8162|         2151| 90.6000018119812|1.2171898278934408|\n|Technology|Africa| 322367.0430994034|  44129.4930000001|         2031|143.1999975964427|13.689207363046899|\n|Technology|  East| 264872.0816922188| 47439.55759999996|         1927|76.30000080168247|17.910365372189244|\n+----------+------+------------------+------------------+-------------+-----------------+------------------+\nonly showing top 5 rows\n\n"
     ]
    }
   ],
   "source": [
    "from pyspark.sql.functions import col\n",
    "\n",
    "# Add a Profit Margin Column \n",
    "df_transformed = df_transformed.withColumn(\"ProfitMargin\", (col(\"TotalProfit\") / col(\"TotalSales\")) * 100)\n",
    "\n",
    "# Show the result\n",
    "df_transformed.show(5)\n"
   ]
  },
  {
   "cell_type": "code",
   "execution_count": 0,
   "metadata": {
    "application/vnd.databricks.v1+cell": {
     "cellMetadata": {
      "byteLimit": 2048000,
      "rowLimit": 10000
     },
     "inputWidgets": {},
     "nuid": "d34f80d4-e48d-421b-8228-1d24789c8af3",
     "showTitle": false,
     "tableResultSettingsMap": {},
     "title": ""
    }
   },
   "outputs": [
    {
     "output_type": "stream",
     "name": "stdout",
     "output_type": "stream",
     "text": [
      "+----------+------+------------------+------------------+-------------+-----------------+------------------+\n|  Category|Region|        TotalSales|       TotalProfit|TotalQuantity|    TotalDiscount|      ProfitMargin|\n+----------+------+------------------+------------------+-------------+-----------------+------------------+\n| Furniture|Canada|10595.279964447021|           2613.24|           78|              0.0|24.664190174953884|\n|Technology|  EMEA|  300854.583026886|17494.443000000036|         2259|189.1000056862831| 5.814916569988444|\n| Furniture|  East| 205540.3473367691|         2501.8162|         2151| 90.6000018119812|1.2171898278934408|\n|Technology|Africa| 322367.0430994034|  44129.4930000001|         2031|143.1999975964427|13.689207363046899|\n|Technology|  East| 264872.0816922188| 47439.55759999996|         1927|76.30000080168247|17.910365372189244|\n+----------+------+------------------+------------------+-------------+-----------------+------------------+\nonly showing top 5 rows\n\n"
     ]
    }
   ],
   "source": [
    "# Remove Duplicate Rows based on 'Category' and 'Region' \n",
    "df_transformed = df_transformed.dropDuplicates([\"Category\", \"Region\"])\n",
    "\n",
    "df_transformed.show(5)\n"
   ]
  },
  {
   "cell_type": "code",
   "execution_count": 0,
   "metadata": {
    "application/vnd.databricks.v1+cell": {
     "cellMetadata": {
      "byteLimit": 2048000,
      "rowLimit": 10000
     },
     "inputWidgets": {},
     "nuid": "4b3f49a9-0dfd-4772-b453-2dff09ba895c",
     "showTitle": false,
     "tableResultSettingsMap": {},
     "title": ""
    }
   },
   "outputs": [
    {
     "output_type": "stream",
     "name": "stdout",
     "output_type": "stream",
     "text": [
      "+----------+------+------------------+------------------+-------------+-----------------+------------------+\n|  Category|Region|        TotalSales|       TotalProfit|TotalQuantity|    TotalDiscount|      ProfitMargin|\n+----------+------+------------------+------------------+-------------+-----------------+------------------+\n| Furniture|Canada|10595.279964447021|           2613.24|           78|              0.0|24.664190174953884|\n|Technology|  EMEA|  300854.583026886|17494.443000000036|         2259|189.1000056862831| 5.814916569988444|\n| Furniture|  East| 205540.3473367691|         2501.8162|         2151| 90.6000018119812|1.2171898278934408|\n|Technology|Africa| 322367.0430994034|  44129.4930000001|         2031|143.1999975964427|13.689207363046899|\n|Technology|  East| 264872.0816922188| 47439.55759999996|         1927|76.30000080168247|17.910365372189244|\n+----------+------+------------------+------------------+-------------+-----------------+------------------+\nonly showing top 5 rows\n\n"
     ]
    }
   ],
   "source": [
    "#Rename Columns for Clarity\n",
    "df_transformed = df_transformed.withColumnRenamed(\"Sales\", \"TotalSales\") \\\n",
    "                                .withColumnRenamed(\"Profit\", \"TotalProfit\")\n",
    "                                \n",
    "df_transformed.show(5)"
   ]
  },
  {
   "cell_type": "code",
   "execution_count": 0,
   "metadata": {
    "application/vnd.databricks.v1+cell": {
     "cellMetadata": {
      "byteLimit": 2048000,
      "rowLimit": 10000
     },
     "inputWidgets": {},
     "nuid": "c15d3d09-c580-459f-bace-10bf69e35179",
     "showTitle": false,
     "tableResultSettingsMap": {},
     "title": ""
    }
   },
   "outputs": [
    {
     "output_type": "stream",
     "name": "stdout",
     "output_type": "stream",
     "text": [
      "+----------+------+------------------+------------------+-------------+-----------------+------------------+\n|  Category|Region|        TotalSales|       TotalProfit|TotalQuantity|    TotalDiscount|      ProfitMargin|\n+----------+------+------------------+------------------+-------------+-----------------+------------------+\n| Furniture|Canada|10595.279964447021|           2613.24|           78|              0.0|24.664190174953884|\n|Technology|  EMEA|  300854.583026886|17494.443000000036|         2259|189.1000056862831| 5.814916569988444|\n| Furniture|  East| 205540.3473367691|         2501.8162|         2151| 90.6000018119812|1.2171898278934408|\n|Technology|Africa| 322367.0430994034|  44129.4930000001|         2031|143.1999975964427|13.689207363046899|\n|Technology|  East| 264872.0816922188| 47439.55759999996|         1927|76.30000080168247|17.910365372189244|\n+----------+------+------------------+------------------+-------------+-----------------+------------------+\nonly showing top 5 rows\n\n"
     ]
    }
   ],
   "source": [
    "from pyspark.sql.functions import col, year, to_date\n",
    "\n",
    "# Add a Year Column \n",
    "df = df.withColumn(\"Year\", year(to_date(col(\"Order Date\"), \"MM/dd/yyyy\")))\n",
    "\n",
    "# Show the result\n",
    "df_transformed.show(5)\n"
   ]
  },
  {
   "cell_type": "code",
   "execution_count": 0,
   "metadata": {
    "application/vnd.databricks.v1+cell": {
     "cellMetadata": {
      "byteLimit": 2048000,
      "rowLimit": 10000
     },
     "inputWidgets": {},
     "nuid": "23f5db04-8fd3-49b2-bbaf-6355306dc34e",
     "showTitle": false,
     "tableResultSettingsMap": {},
     "title": ""
    }
   },
   "outputs": [
    {
     "output_type": "stream",
     "name": "stdout",
     "output_type": "stream",
     "text": [
      "+----------+-------+----+------------------+------------------+-------------+------------------+\n|  Category| Region|Year|        TotalSales|       TotalProfit|TotalQuantity|     TotalDiscount|\n+----------+-------+----+------------------+------------------+-------------+------------------+\n| Furniture|Oceania|2012|100519.00800000002|          8623.818|        607.0| 26.19999999999998|\n|Technology|  North|2012|126353.56300000004|25098.862999999998|        809.0|             7.378|\n|Technology| Africa|2012|64734.582000000024| 6320.742000000001|        404.0| 36.69999999999999|\n| Furniture| Canada|2012|           1600.68|            290.19|         16.0|               0.0|\n|Technology|Oceania|2012| 89761.76700000005|         14203.827|        688.0|23.499999999999986|\n+----------+-------+----+------------------+------------------+-------------+------------------+\nonly showing top 5 rows\n\n"
     ]
    }
   ],
   "source": [
    "from pyspark.sql.functions import col, year, to_date, sum\n",
    "#Filter the Data for a Specific Year\n",
    "\n",
    "# Step 1: Add the Year Column to the Original DataFrame\n",
    "df = df.withColumn(\"Year\", year(to_date(col(\"Order Date\"), \"MM/dd/yyyy\")))\n",
    "\n",
    "# Step 2: Perform the aggregation including 'Year'\n",
    "df_transformed = df.groupBy(\"Category\", \"Region\", \"Year\") \\\n",
    "    .agg(\n",
    "        sum(\"Sales\").alias(\"TotalSales\"),\n",
    "        sum(\"Profit\").alias(\"TotalProfit\"),\n",
    "        sum(\"Quantity\").alias(\"TotalQuantity\"),\n",
    "        sum(\"Discount\").alias(\"TotalDiscount\")\n",
    "    )\n",
    "\n",
    "# Step 3: Filter the Data for a Specific Year\n",
    "df_transformed = df_transformed.filter(col(\"Year\") == 2012)\n",
    "\n",
    "# Show the result\n",
    "df_transformed.show(5)\n"
   ]
  },
  {
   "cell_type": "code",
   "execution_count": 0,
   "metadata": {
    "application/vnd.databricks.v1+cell": {
     "cellMetadata": {
      "byteLimit": 2048000,
      "rowLimit": 10000
     },
     "inputWidgets": {},
     "nuid": "06c33e15-c25d-4ddf-ac3a-2634c26ed683",
     "showTitle": false,
     "tableResultSettingsMap": {},
     "title": ""
    }
   },
   "outputs": [
    {
     "output_type": "stream",
     "name": "stdout",
     "output_type": "stream",
     "text": [
      "+---------------+--------------+----+------------------+-------------------+-------------+------------------+\n|       Category|        Region|Year|        TotalSales|        TotalProfit|TotalQuantity|     TotalDiscount|\n+---------------+--------------+----+------------------+-------------------+-------------+------------------+\n|     Technology|       Central|2012|237291.81162000002| 31373.854319999966|       1791.0| 61.14199999999993|\n|      Furniture|       Central|2012|183778.99949999998| 5231.0848000000005|      1876.94| 85.14000000000004|\n|Office Supplies|       Central|2012|180068.29200000002| 26988.422600000013|     6003.084| 198.4000000000001|\n|     Technology|         North|2012|126353.56300000004| 25098.862999999998|        809.0|             7.378|\n|Office Supplies|         South|2012|116962.67200000002| 10905.974199999997|     3831.186|151.70000000000016|\n|      Furniture|         South|2012|       106962.4015|  8656.693399999998|       1108.0| 38.94999999999999|\n|     Technology|         South|2012|      103154.04796| 11673.361959999993|     1034.824|            38.896|\n|      Furniture|       Oceania|2012|100519.00800000002|           8623.818|        607.0| 26.19999999999998|\n|Office Supplies|         North|2012|         91426.151| 17629.370999999996|       2648.0|36.899999999999984|\n|     Technology|       Oceania|2012| 89761.76700000005|          14203.827|        688.0|23.499999999999986|\n|      Furniture|         North|2012| 82451.25800000002|  8177.708000000001|        839.0| 50.49999999999996|\n|     Technology|Southeast Asia|2012| 77886.98879999996|  6068.458799999999|        534.0| 32.09000000000001|\n|     Technology|  Central Asia|2012| 69458.76000000001| 13756.859999999999|        394.0|               5.5|\n|     Technology|    North Asia|2012| 64934.62500000001| 13026.855000000001|        359.0|               4.0|\n|     Technology|        Africa|2012|64734.582000000024|  6320.742000000001|        404.0| 36.69999999999999|\n|      Furniture|  Central Asia|2012| 63161.99100000001| 10080.321000000002|        309.0|               3.7|\n|     Technology|          East|2012|59859.380000000034| 10097.783800000003|        455.0|17.200000000000003|\n|Office Supplies|       Oceania|2012| 59784.89699999999|  6847.677000000001|       1526.0| 67.60000000000004|\n|      Furniture|Southeast Asia|2012|        56304.3126|-3623.6273999999994|        500.0|             32.44|\n|      Furniture|          West|2012|55958.951499999974|  3104.637600000002|      1393.84|27.599999999999987|\n+---------------+--------------+----+------------------+-------------------+-------------+------------------+\nonly showing top 20 rows\n\n"
     ]
    }
   ],
   "source": [
    "#Sort Data by Total Sales\n",
    "df_transformed = df_transformed.orderBy(col(\"TotalSales\").desc())\n",
    "df_transformed.show()"
   ]
  },
  {
   "cell_type": "code",
   "execution_count": 0,
   "metadata": {
    "application/vnd.databricks.v1+cell": {
     "cellMetadata": {
      "byteLimit": 2048000,
      "rowLimit": 10000
     },
     "inputWidgets": {},
     "nuid": "611fcef3-c031-4956-b4e3-08f04f6554a7",
     "showTitle": false,
     "tableResultSettingsMap": {},
     "title": ""
    }
   },
   "outputs": [],
   "source": [
    "# Save the transformed data in DBFS\n",
    "df_transformed.write.format(\"delta\").mode(\"overwrite\").saveAsTable(\"transformed_data\")\n",
    "\n"
   ]
  },
  {
   "cell_type": "code",
   "execution_count": 0,
   "metadata": {
    "application/vnd.databricks.v1+cell": {
     "cellMetadata": {
      "byteLimit": 2048000,
      "rowLimit": 10000
     },
     "inputWidgets": {},
     "nuid": "4f3cd082-6e6d-425f-b99f-d58a08d85ed8",
     "showTitle": false,
     "tableResultSettingsMap": {},
     "title": ""
    }
   },
   "outputs": [
    {
     "output_type": "stream",
     "name": "stdout",
     "output_type": "stream",
     "text": [
      "root\n |-- Category: string (nullable = true)\n |-- Region: string (nullable = true)\n |-- Year: integer (nullable = true)\n |-- TotalSales: double (nullable = true)\n |-- TotalProfit: double (nullable = true)\n |-- TotalQuantity: double (nullable = true)\n |-- TotalDiscount: double (nullable = true)\n\n"
     ]
    }
   ],
   "source": [
    "df_transformed.printSchema()"
   ]
  }
 ],
 "metadata": {
  "application/vnd.databricks.v1+notebook": {
   "computePreferences": null,
   "dashboards": [],
   "environmentMetadata": {
    "base_environment": "",
    "client": "1"
   },
   "language": "python",
   "notebookMetadata": {
    "pythonIndentUnit": 4
   },
   "notebookName": "Coding challenge - 5",
   "widgets": {}
  },
  "language_info": {
   "name": "python"
  }
 },
 "nbformat": 4,
 "nbformat_minor": 0
}